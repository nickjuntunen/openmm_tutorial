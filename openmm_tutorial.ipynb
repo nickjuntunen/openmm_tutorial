{
 "cells": [
  {
   "cell_type": "markdown",
   "metadata": {},
   "source": [
    "# OpenMM Tutorial\n",
    "\n",
    "Platform for molecular dynamics. Customizable, open-source, supports CUDA, etc.\n",
    "\n",
    "OpenMM has weird documentation. Often the first link if you google openmm points you to an old version (7.0.0). Look for the 8.1.0 version if you are up to date."
   ]
  },
  {
   "cell_type": "markdown",
   "metadata": {},
   "source": [
    "## Imports\n",
    "\n",
    "Along with the main openmm import, there are two libraries that are particularly useful: openmm.app and openmm.unit. openmm.unit is appropriately named and allows users to define simulations in the unit system they prefer.\n",
    "\n",
    "openmm.app is a set of libraries for the high-level application layer. This provides easier interfacing with your code to tune general parameters and run simulations. We will focus on this to begin, and we will return to the lower-level libraries in openmm later in the tutorial."
   ]
  },
  {
   "cell_type": "code",
   "execution_count": 1,
   "metadata": {},
   "outputs": [],
   "source": [
    "import openmm as mm\n",
    "import openmm.app as app\n",
    "import openmm.unit as u\n",
    "import numpy as np"
   ]
  },
  {
   "cell_type": "markdown",
   "metadata": {},
   "source": [
    "## Input structures and forcefields\n",
    "\n",
    "OpenMM supports multiple types of input files. The most familiar and useful for us is the PDB filetype, though .gro (Gromacs), .inpcrd/.prmtop (AMBER), and .psf (CHARMM) are also used.$^*$ A PDB file is read using the application layer, and the topology and coordinates are stored in a PDBFile object.\n",
    "\n",
    "\n",
    "###### $^*$ These usually require both coordinate and topology files, and the system is created on the topology object."
   ]
  },
  {
   "cell_type": "code",
   "execution_count": 2,
   "metadata": {},
   "outputs": [
    {
     "name": "stdout",
     "output_type": "stream",
     "text": [
      "<Topology; 1 chains, 3 residues, 22 atoms, 21 bonds>\n",
      "[Vec3(x=0.2, y=0.1, z=-0.0), Vec3(x=0.2, y=0.209, z=0.0), Vec3(x=0.1486, y=0.24540000000000003, z=0.08900000000000001), Vec3(x=0.1486, y=0.24540000000000003, z=-0.08900000000000001), Vec3(x=0.3427, y=0.2641, z=-0.0), Vec3(x=0.43910000000000005, y=0.1877, z=-0.0), Vec3(x=0.35550000000000004, y=0.397, z=-0.0), Vec3(x=0.27330000000000004, y=0.4556, z=-0.0), Vec3(x=0.4853, y=0.46140000000000003, z=-0.0), Vec3(x=0.5408000000000001, y=0.4316, z=0.08900000000000001), Vec3(x=0.5660999999999999, y=0.42210000000000003, z=-0.1232), Vec3(x=0.5123000000000001, y=0.4521, z=-0.21309999999999998), Vec3(x=0.663, y=0.47190000000000004, z=-0.1206), Vec3(x=0.5809000000000001, y=0.31410000000000005, z=-0.12410000000000002), Vec3(x=0.47130000000000005, y=0.6129, z=0.0), Vec3(x=0.36010000000000003, y=0.6653, z=0.0), Vec3(x=0.5846, y=0.6835, z=0.0), Vec3(x=0.6737000000000001, y=0.6359, z=-0.0), Vec3(x=0.5846, y=0.8284000000000001, z=0.0), Vec3(x=0.4819, y=0.8648, z=0.0), Vec3(x=0.6360000000000001, y=0.8648, z=0.08900000000000001), Vec3(x=0.6360000000000001, y=0.8648, z=-0.08900000000000001)] nm\n"
     ]
    }
   ],
   "source": [
    "pdb = app.PDBFile(\"alanine-dipeptide.pdb\")\n",
    "print(pdb.topology)\n",
    "print(pdb.positions)"
   ]
  },
  {
   "cell_type": "markdown",
   "metadata": {},
   "source": [
    "To change your unit system, use the .value_in_unit() method. This gives the number in the new units, but it doesn't include the unit. Multiply by openmm.unit.(your_unit) to reintroduce it."
   ]
  },
  {
   "cell_type": "code",
   "execution_count": 3,
   "metadata": {},
   "outputs": [
    {
     "name": "stdout",
     "output_type": "stream",
     "text": [
      "(Vec3(x=10.0, y=0.0, z=0.0), Vec3(x=0.0, y=10.0, z=0.0), Vec3(x=0.0, y=0.0, z=10.0)) nm\n",
      "(Vec3(x=100.0, y=0.0, z=0.0), Vec3(x=0.0, y=100.0, z=0.0), Vec3(x=0.0, y=0.0, z=100.0)) A\n"
     ]
    }
   ],
   "source": [
    "print(pdb.topology.getPeriodicBoxVectors()) # get box vectors in nm\n",
    "print(pdb.topology.getPeriodicBoxVectors().value_in_unit(u.angstrom) * u.angstrom) # get box vectors in angstroms"
   ]
  },
  {
   "cell_type": "markdown",
   "metadata": {},
   "source": [
    "Forcefields are specified with their corresponding XML files and can be called with the ForceField class in the application layer. Many forcefields, such as amber14 shown below, are included with OpenMM and do not require the XML file where you are running the simulation."
   ]
  },
  {
   "cell_type": "code",
   "execution_count": 4,
   "metadata": {},
   "outputs": [],
   "source": [
    "forcefield = app.ForceField('amber14-all.xml')"
   ]
  },
  {
   "cell_type": "markdown",
   "metadata": {},
   "source": [
    "Many times, water models are separated from the main forcefield and should be called separately (e.g. forcefield=app.ForceField('amber14-all.xml', 'amber14/tip3p.xml')). This lends flexibility in the choice of water model (implicit vs explicit, different methods, etc.). http://docs.openmm.org/latest/userguide/application/02_running_sims.html#force-fields provides an overview of a couple forcefields built into OpenMM. Note that some models require the topology to be adjusted to account for waters in the system."
   ]
  },
  {
   "cell_type": "markdown",
   "metadata": {},
   "source": [
    "## System objects\n",
    "\n",
    "The System defines what you are simulating using the forcefield, topology, nonbonded considerations, and other parameters depending on the forcefield you use. It is created by calling .createSystem() on your forcefield."
   ]
  },
  {
   "cell_type": "code",
   "execution_count": 5,
   "metadata": {},
   "outputs": [],
   "source": [
    "system = forcefield.createSystem(pdb.topology,\n",
    "                                 nonbondedMethod=app.NoCutoff, # implies non-periodicity, isolated box in vacuum\n",
    "                                 constraints=app.HBonds)"
   ]
  },
  {
   "cell_type": "markdown",
   "metadata": {},
   "source": [
    "If simulating some bulk periodic system: to prevent issues with periodic images, the nonbondedCutoff must be less than $\\frac{1}{2}({\\rm box~vectors})$."
   ]
  },
  {
   "cell_type": "markdown",
   "metadata": {},
   "source": [
    "## Platform objects\n",
    "\n",
    "On what hardware do you want to simulate your system? There are four options provided by OpenMM, but only two are worth considering for our uses: CUDA and CPU.$^*$ There are two options to implicitly choose a platform. (1) OpenMM defaults to the fastest option available, and (2) you can set the OPENMM_DEFAULT_PLATFORM environment variable to your choice.\n",
    "\n",
    "Alternatively, to explicitly specify on which device you would like to run the calculations, simply do\n",
    "\n",
    "###### $^*$ The other platforms are Reference and OpenCL. Reference is mainly a tool for writing your own platform and does not optimize performance. OpenCL works with GPUs and CPUs, is written in OpenCL, and is useful if you're working with non-Nvidia graphics cards."
   ]
  },
  {
   "cell_type": "code",
   "execution_count": 6,
   "metadata": {},
   "outputs": [],
   "source": [
    "platform = mm.Platform.getPlatformByName('CPU') # 'CUDA' if a GPU is available"
   ]
  },
  {
   "cell_type": "markdown",
   "metadata": {},
   "source": [
    "## Integrators, thermostats, and barostats\n",
    "For a list of available integrators, see http://docs.openmm.org/latest/userguide/application/02_running_sims.html#integrators.\n",
    "\n",
    "#### NVE integrators, thermostats\n",
    "E.g. VerletIntegrator\n",
    "\n",
    "You can add a thermostat to these integrators to perform NVT simulations, but Langevin integrators are preferred. To add the thermostat, apply .addForce(your_thermostat) to the system object."
   ]
  },
  {
   "cell_type": "code",
   "execution_count": 7,
   "metadata": {},
   "outputs": [],
   "source": [
    "# way to remove forces (e.g. thermostat) from the system\n",
    "def manual_remove_force(system, force_object):\n",
    "    for i, force in enumerate(system.getForces()):\n",
    "        if f'{force}'[0:50] == f'{force_object}'[0:50]:\n",
    "            system.removeForce(i)\n",
    "            return True\n",
    "    return False"
   ]
  },
  {
   "cell_type": "code",
   "execution_count": 8,
   "metadata": {},
   "outputs": [
    {
     "name": "stdout",
     "output_type": "stream",
     "text": [
      "<openmm.openmm.AndersenThermostat; proxy of <Swig Object of type 'OpenMM::AndersenThermostat *' at 0x10f173030> >\n"
     ]
    }
   ],
   "source": [
    "nve_integrator = mm.VerletIntegrator(0.001*u.picoseconds)\n",
    "\n",
    "thermostat = mm.AndersenThermostat(298.15*u.kelvin,\n",
    "                                   1.0/u.picosecond)\n",
    "\n",
    "manual_remove_force(system, thermostat)\n",
    "\n",
    "system.addForce(thermostat)\n",
    "print(system.getForces()[-1])"
   ]
  },
  {
   "cell_type": "markdown",
   "metadata": {},
   "source": [
    "#### NVT integrators\n",
    "Langevin Middle Integrator: thermostat built into this, good for NVT simulations.\n",
    "\n",
    "\n",
    "#### NPT simulations\n",
    "To run NPT simulations, you can add a barostat. Multiple kinds are built into OpenMM: isotropic, anisotropic, specifically for membranes, http://docs.openmm.org/development/api-python/library.html#forces. Note: the system must be periodic to use a barostat.\n",
    "\n",
    "Like thermostats, barostats need to be added to the system as forces."
   ]
  },
  {
   "cell_type": "code",
   "execution_count": 9,
   "metadata": {},
   "outputs": [
    {
     "name": "stdout",
     "output_type": "stream",
     "text": [
      "[<openmm.openmm.HarmonicBondForce; proxy of <Swig Object of type 'OpenMM::HarmonicBondForce *' at 0x10f173240> >, <openmm.openmm.HarmonicAngleForce; proxy of <Swig Object of type 'OpenMM::HarmonicAngleForce *' at 0x10f173210> >, <openmm.openmm.PeriodicTorsionForce; proxy of <Swig Object of type 'OpenMM::PeriodicTorsionForce *' at 0x10f1732d0> >, <openmm.openmm.NonbondedForce; proxy of <Swig Object of type 'OpenMM::NonbondedForce *' at 0x10f173360> >, <openmm.openmm.CMMotionRemover; proxy of <Swig Object of type 'OpenMM::CMMotionRemover *' at 0x10f1733f0> >]\n",
      "<openmm.openmm.MonteCarloBarostat; proxy of <Swig Object of type 'OpenMM::MonteCarloBarostat *' at 0x10f173540> >\n"
     ]
    }
   ],
   "source": [
    "# remove thermostat if we use Langevin integrator\n",
    "manual_remove_force(system, thermostat)\n",
    "print(system.getForces()) # check that the thermostat is removed\n",
    "\n",
    "integrator = mm.LangevinMiddleIntegrator(300 * u.kelvin,           # temperature of the heat bath\n",
    "                                         1.0 / u.picosecond,       # friction coefficient\n",
    "                                         2.0 * u.femtosecond)      # integration timestep\n",
    "\n",
    "barostat = mm.MonteCarloBarostat(1.0 * u.bar,       # pressure\n",
    "                                 300 * u.kelvin,    # temperature - match with integrator\n",
    "                                 25)                # frequency of volume change attempts in number of time steps\n",
    "\n",
    "manual_remove_force(system, barostat) # prevent adding a second barostat if cell rerun\n",
    "\n",
    "system.addForce(barostat)\n",
    "print(system.getForces()[-1])"
   ]
  },
  {
   "cell_type": "markdown",
   "metadata": {},
   "source": [
    "Let's remove the barostat for now and just work with the NVT ensemble."
   ]
  },
  {
   "cell_type": "code",
   "execution_count": 10,
   "metadata": {},
   "outputs": [
    {
     "name": "stdout",
     "output_type": "stream",
     "text": [
      "[<openmm.openmm.HarmonicBondForce; proxy of <Swig Object of type 'OpenMM::HarmonicBondForce *' at 0x12ea0f0c0> >, <openmm.openmm.HarmonicAngleForce; proxy of <Swig Object of type 'OpenMM::HarmonicAngleForce *' at 0x12ea0f600> >, <openmm.openmm.PeriodicTorsionForce; proxy of <Swig Object of type 'OpenMM::PeriodicTorsionForce *' at 0x12ea0fb70> >, <openmm.openmm.NonbondedForce; proxy of <Swig Object of type 'OpenMM::NonbondedForce *' at 0x12ea0fba0> >, <openmm.openmm.CMMotionRemover; proxy of <Swig Object of type 'OpenMM::CMMotionRemover *' at 0x12ea0f4e0> >]\n"
     ]
    }
   ],
   "source": [
    "manual_remove_force(system, barostat)\n",
    "print(system.getForces()) # check that the barostat is removed"
   ]
  },
  {
   "cell_type": "markdown",
   "metadata": {},
   "source": [
    "#### Custom integrators\n",
    "Instead of using an established integrator, you can also create your own. One example of this utility is with separated timescales; if you need to integrate over a fast process and a slow one, you can write an integrator that accomplishes this task efficiently:"
   ]
  },
  {
   "cell_type": "code",
   "execution_count": 11,
   "metadata": {},
   "outputs": [
    {
     "name": "stdout",
     "output_type": "stream",
     "text": [
      "<openmm.openmm.CustomIntegrator; proxy of <Swig Object of type 'OpenMM::CustomIntegrator *' at 0x12ef7ec30> >\n"
     ]
    }
   ],
   "source": [
    "custom_integrator = mm.CustomIntegrator(0.002*u.picoseconds) # 2 fs time step\n",
    "custom_integrator.addComputePerDof('v', 'v+0.5*dt*f1/m')\n",
    "for _ in range(4):\n",
    "    custom_integrator.addComputePerDof('v', 'v+0.5*(dt/4)*f0/m')\n",
    "    custom_integrator.addComputePerDof('x', 'x+(dt/4)*v')\n",
    "    custom_integrator.addComputePerDof('v', 'v+0.5*(dt/4)*f0/m')\n",
    "custom_integrator.addComputePerDof('v', 'v+0.5*dt*f1/m')\n",
    "\n",
    "print(custom_integrator)"
   ]
  },
  {
   "cell_type": "markdown",
   "metadata": {},
   "source": [
    "## Simulation objects\n",
    "\n",
    "The Simulation object creates a context that brings everything together."
   ]
  },
  {
   "cell_type": "code",
   "execution_count": 12,
   "metadata": {},
   "outputs": [],
   "source": [
    "simulation = app.Simulation(pdb.topology, system, integrator, platform)"
   ]
  },
  {
   "cell_type": "markdown",
   "metadata": {},
   "source": [
    "You must explicitly set the positions and velocities of the particles after creating the simulation, which is easily done with the PDBFile object defined above and the .setVelocitiesToTemperature() method, respectively."
   ]
  },
  {
   "cell_type": "code",
   "execution_count": 13,
   "metadata": {},
   "outputs": [
    {
     "name": "stdout",
     "output_type": "stream",
     "text": [
      "[[ 0.2     0.1    -0.    ]\n",
      " [ 0.2     0.209   0.    ]\n",
      " [ 0.1486  0.2454  0.089 ]\n",
      " [ 0.1486  0.2454 -0.089 ]\n",
      " [ 0.3427  0.2641 -0.    ]\n",
      " [ 0.4391  0.1877 -0.    ]\n",
      " [ 0.3555  0.397  -0.    ]\n",
      " [ 0.2733  0.4556 -0.    ]\n",
      " [ 0.4853  0.4614 -0.    ]\n",
      " [ 0.5408  0.4316  0.089 ]\n",
      " [ 0.5661  0.4221 -0.1232]\n",
      " [ 0.5123  0.4521 -0.2131]\n",
      " [ 0.663   0.4719 -0.1206]\n",
      " [ 0.5809  0.3141 -0.1241]\n",
      " [ 0.4713  0.6129  0.    ]\n",
      " [ 0.3601  0.6653  0.    ]\n",
      " [ 0.5846  0.6835  0.    ]\n",
      " [ 0.6737  0.6359 -0.    ]\n",
      " [ 0.5846  0.8284  0.    ]\n",
      " [ 0.4819  0.8648  0.    ]\n",
      " [ 0.636   0.8648  0.089 ]\n",
      " [ 0.636   0.8648 -0.089 ]] nm\n",
      "[[ 3.10881531  0.21540673  0.18806818]\n",
      " [-0.28504381  0.21540673 -0.25708699]\n",
      " [ 0.94869059  0.07657361  0.51221047]\n",
      " [ 0.75432664 -1.51711509 -1.5659346 ]\n",
      " [ 0.16859488 -0.14759643  0.32628717]\n",
      " [-0.58251636  0.3049909   0.22452708]\n",
      " [-1.07328976  0.22295026  0.49015142]\n",
      " [-1.8290166  -0.83713073 -1.11393528]\n",
      " [ 0.33249724  0.44319458  0.83596101]\n",
      " [-2.27136443 -1.55333979  1.79121492]\n",
      " [-0.04583282  0.54405104  0.13670594]\n",
      " [-0.77258288 -0.78610321  0.12774626]\n",
      " [ 0.90022364 -1.29592924  0.12061018]\n",
      " [-1.14437068  0.39336404  0.15430311]\n",
      " [-0.39696096 -0.3409391   0.64187458]\n",
      " [ 0.20882762  0.0382129  -0.09162097]\n",
      " [ 0.26426888 -0.07343637 -0.15498993]\n",
      " [-0.2208456  -0.98149729 -0.74116489]\n",
      " [ 0.33201772 -0.14902538  0.18540156]\n",
      " [ 1.11622616  2.06356265 -3.05373056]\n",
      " [ 2.64168313  0.4369014  -1.3881326 ]\n",
      " [-0.89493463 -0.88974758 -0.82614496]] nm/ps\n"
     ]
    }
   ],
   "source": [
    "simulation.context.setPositions(pdb.positions)\n",
    "simulation.context.setVelocitiesToTemperature(300*u.kelvin)\n",
    "print(simulation.context.getState(getPositions=True).getPositions(asNumpy=True))\n",
    "print(simulation.context.getState(getVelocities=True).getVelocities(asNumpy=True))"
   ]
  },
  {
   "cell_type": "markdown",
   "metadata": {},
   "source": [
    "We can now run the simulation! We first minimize the energy of the system through a geometry relaxation, then we can step through our equations of motion. We'll only run a few steps here and save the state of the system. Once we have the tools to track our data, we'll let it go longer."
   ]
  },
  {
   "cell_type": "code",
   "execution_count": 14,
   "metadata": {},
   "outputs": [
    {
     "name": "stdout",
     "output_type": "stream",
     "text": [
      "Minimizing energy...\n",
      "Done minimizing energy.\n",
      "Done minimizing energy.\n"
     ]
    }
   ],
   "source": [
    "print(\"Minimizing energy...\")\n",
    "simulation.minimizeEnergy(maxIterations=100000,tolerance=0.000001)\n",
    "print(\"Done minimizing energy.\")\n",
    "simulation.step(1)"
   ]
  },
  {
   "cell_type": "markdown",
   "metadata": {},
   "source": [
    "## State object\n",
    "\n",
    "The State object lets you pull information about the state of the system (positions, velocities, forces, energies, etc.). You must provide the specific information you want to be stored in the State, which can then be accessed by calling .getPositions(), .getVelocities(), etc. By default, these are returned as N Vec3 objects for N atoms in your system, but you can get Numpy arrays by setting asNumpy=True in the method argument."
   ]
  },
  {
   "cell_type": "code",
   "execution_count": 15,
   "metadata": {},
   "outputs": [
    {
     "name": "stdout",
     "output_type": "stream",
     "text": [
      "[Vec3(x=0.2008859006675434, y=0.11842863504607307, z=10.057316175669822), Vec3(x=0.19809007308329524, y=0.21792571491153795, z=10.012891919173006), Vec3(x=0.13446251447139215, y=0.28488719825368564, z=10.070759815874043), Vec3(x=0.1694145495993873, y=0.21041633273397364, z=9.907999958805707), Vec3(x=0.34091094379447345, y=0.26865917158895714, z=10.021883585839683), Vec3(x=0.4271801058232707, y=0.2003369196106844, z=10.071464078824498), Vec3(x=0.360237874767523, y=0.3912385368897973, z=9.973262272711455), Vec3(x=0.28148135313821226, y=0.44114820280556033, z=9.934436565389564), Vec3(x=0.49260180170384993, y=0.459545472476366, z=9.974598380211155), Vec3(x=0.5422926838073658, y=0.4256596667368248, z=10.065502551773081), Vec3(x=0.571705375530753, y=0.41593033346936364, z=9.849528379757109), Vec3(x=0.5171559721394899, y=0.44198109621104775, z=9.758827110595124), Vec3(x=0.671739986806688, y=0.4592190511513425, z=9.84993252238112), Vec3(x=0.5827019613679992, y=0.3074928690559175, z=9.85070792752457), Vec3(x=0.4732578338435696, y=0.6109933159315192, z=9.978676660222678), Vec3(x=0.36842066183762545, y=0.6632497449786998, z=9.94197128425094), Vec3(x=0.5790868156396746, y=0.683899909394925, z=10.019128967191989), Vec3(x=0.662258338916047, y=0.6326287023226709, z=10.044717266104616), Vec3(x=0.579528908787261, y=0.8296687950831266, z=10.029189637777083), Vec3(x=0.49900686826242524, y=0.867303935538129, z=10.092283196861247), Vec3(x=0.6768394114706756, y=0.8653941035202309, z=10.062884863109781), Vec3(x=0.558686952784892, y=0.8709690614030459, z=9.930493634222401)] nm\n",
      "[[ 3.06560901  0.19855632 -0.04524619]\n",
      " [-0.15755539  0.06101983 -0.50126263]\n",
      " [ 0.7731393   0.10257389  0.58722388]\n",
      " [ 1.00853901 -1.48857197 -0.74510423]\n",
      " [ 0.33072253 -0.2149747   0.13742764]\n",
      " [-0.47261023  0.22434066  0.05089231]\n",
      " [-0.94690306  0.18344368  0.30999194]\n",
      " [-1.25971228 -1.16839931 -0.99897814]\n",
      " [ 0.42399007  0.31782757  0.66361667]\n",
      " [-2.18401392 -1.63480345  1.70256056]\n",
      " [ 0.0566353   0.48748961 -0.02705903]\n",
      " [-0.52318034 -0.86350758  0.0458794 ]\n",
      " [ 1.00421594 -1.56818442  0.06901095]\n",
      " [-1.02289762  0.3893149   0.0303583 ]\n",
      " [-0.30033392 -0.39339301  0.48472406]\n",
      " [ 0.36559643 -0.00367089 -0.27613364]\n",
      " [ 0.33768222 -0.12855891 -0.321327  ]\n",
      " [-0.05457465 -1.06888236 -0.8446622 ]\n",
      " [ 0.6764684  -0.18473245 -0.11504259]\n",
      " [ 0.15145753  2.47310434 -2.24036387]\n",
      " [ 1.43054758 -0.12079332 -2.11882202]\n",
      " [-0.54285898 -1.11172054 -0.2926294 ]] nm/ps\n"
     ]
    }
   ],
   "source": [
    "current_state = simulation.context.getState(getPositions=True,\n",
    "                                            getVelocities=True,\n",
    "                                            getEnergy=True,\n",
    "                                            getForces=True,\n",
    "                                            getParameters=True,\n",
    "                                            enforcePeriodicBox=True\n",
    "                                            )\n",
    "positions = current_state.getPositions()\n",
    "velocities = current_state.getVelocities(asNumpy=True)\n",
    "print(positions)\n",
    "print(velocities)"
   ]
  },
  {
   "cell_type": "markdown",
   "metadata": {},
   "source": [
    "## Saving states\n",
    "We can save the State of our simulation as well by calling the saveState method on the simulation. There are actually two options to save at a given point in the simulation: saveState and saveCheckpoint. saveState creates a text file containing positions, velocities, forces, and many other parameters of the simulation. Because it is a text file, it can be used across different machines but can create a large document. Alternatively, saveCheckpoint saves a binary file with this information and should be only used on consistent hardware."
   ]
  },
  {
   "cell_type": "code",
   "execution_count": 16,
   "metadata": {},
   "outputs": [],
   "source": [
    "simulation.saveState('progress.state')\n",
    "pos_check = simulation.context.getState(getPositions=True).getPositions(asNumpy=True) # check that loadState will give the same positions"
   ]
  },
  {
   "cell_type": "markdown",
   "metadata": {},
   "source": [
    "## Reporters\n",
    "Reporter objects store simulation data and save it to a file (.log, .pdb, .xtc, ...). You can choose how often you want to save a frame of the simulation (reportInterval), whether to have coordinates enforce periodicity (enforcePeriodicBox for PDBReporter), and what data you would like to keep. The data reporter must be appended to simulation.reporters to save any information about the simulation.\n",
    "\n",
    "In addition to the one-off save options above, there is also a saveCheckpoint reporter that will automatically create a checkpoint file every $n$ steps in the simulation. There's an optional argument to save the system as a serialized State file (like .saveState) as well."
   ]
  },
  {
   "cell_type": "code",
   "execution_count": 17,
   "metadata": {},
   "outputs": [],
   "source": [
    "state_data_reporter = app.StateDataReporter(file='nvt_output.log',\n",
    "                                            reportInterval=1,\n",
    "                                            step=True,\n",
    "                                            time=True,\n",
    "                                            potentialEnergy=True,\n",
    "                                            kineticEnergy=True,\n",
    "                                            totalEnergy=True,\n",
    "                                            temperature=True,\n",
    "                                            volume=True,\n",
    "                                            density=True,\n",
    "                                            speed=True,\n",
    "                                            separator=' ')\n",
    "\n",
    "pdb_reporter = app.PDBReporter(file='nvt_output.pdb',\n",
    "                               reportInterval=4,\n",
    "                               enforcePeriodicBox=True)\n",
    "\n",
    "checkpoint_reporter = app.CheckpointReporter(file='checkpnt.chk',\n",
    "                                             reportInterval=5,\n",
    "                                             writeState=False)\n",
    "\n",
    "simulation.reporters.append(state_data_reporter)\n",
    "simulation.reporters.append(pdb_reporter)\n",
    "simulation.reporters.append(checkpoint_reporter)"
   ]
  },
  {
   "cell_type": "code",
   "execution_count": 18,
   "metadata": {},
   "outputs": [],
   "source": [
    "simulation.step(10)"
   ]
  },
  {
   "cell_type": "markdown",
   "metadata": {},
   "source": [
    "You should now see three new files in your directory: output.log, output.pdb, and checkpnt.chk.\n",
    "\n",
    "## Loading states\n",
    "Let's load the State we saved earlier. We'll first check that our positions have evolved and are not the same as those in the saved State."
   ]
  },
  {
   "cell_type": "code",
   "execution_count": 19,
   "metadata": {},
   "outputs": [
    {
     "name": "stdout",
     "output_type": "stream",
     "text": [
      "False\n"
     ]
    }
   ],
   "source": [
    "pos_check1 = simulation.context.getState(getPositions=True).getPositions(asNumpy=True) # check that positions are different than pos_check\n",
    "print(np.all(pos_check == pos_check1)) # should be false"
   ]
  },
  {
   "cell_type": "markdown",
   "metadata": {},
   "source": [
    "Now we can load the saved State and check if the positions are the same."
   ]
  },
  {
   "cell_type": "code",
   "execution_count": 20,
   "metadata": {},
   "outputs": [
    {
     "name": "stdout",
     "output_type": "stream",
     "text": [
      "True\n"
     ]
    }
   ],
   "source": [
    "simulation.loadState('progress.state')\n",
    "\n",
    "pos_check2 = simulation.context.getState(getPositions=True).getPositions(asNumpy=True) # check that loadState will give the same positions\n",
    "print(np.all(pos_check == pos_check2)) # should be true"
   ]
  },
  {
   "cell_type": "markdown",
   "metadata": {},
   "source": [
    "## (Custom) Forces\n",
    "\n",
    "We saw with thermostats and barostats that forces could be added outside of the forcefield rules. We can also add whichever forces we see fit using system.addForces(). A link to available forces is here: http://docs.openmm.org/development/api-python/library.html#forces. As we saw an example of adding pre-defined forces to the system above with thermostats and barostats, here we will focus on custom forces. OpenMM lets you write an analytical energy expression and apply the corresponding force to bonds, as an external force on particles, and more. Here we will write a force to trap atoms in our structure in an harmonic well.\n",
    "\n",
    "There are different kinds of parameters we can set when defining a custom force. Global Parameters apply to all objects experiencing the force, whereas Per Particle Parameters are appropriately named and can have a unique value for every particle. In this case, our spring constant will be global and the positions in which we trap the atoms will be per particle."
   ]
  },
  {
   "cell_type": "code",
   "execution_count": 21,
   "metadata": {},
   "outputs": [
    {
     "name": "stdout",
     "output_type": "stream",
     "text": [
      "<openmm.openmm.CMMotionRemover; proxy of <Swig Object of type 'OpenMM::CMMotionRemover *' at 0x10f1e74b0> >\n"
     ]
    }
   ],
   "source": [
    "print(system.getForces()[-1]) # check the last force in the list, should change once we add custom force\n",
    "custom_force = mm.CustomExternalForce('k*((x-x0)^2+(y-y0)^2+(z-z0)^2)') # energy function associated with the force we want to add\n",
    "custom_force.addGlobalParameter('k', 1.0)\n",
    "custom_force.addPerParticleParameter('x0')\n",
    "custom_force.addPerParticleParameter('y0')\n",
    "custom_force.addPerParticleParameter('z0');"
   ]
  },
  {
   "cell_type": "markdown",
   "metadata": {},
   "source": [
    "Next, we want to add each particle to the force as well as the reference positions to each particle. We add particles according to their indices (enumerating over positions is a helpful way to get these), and we add the per particle parameter immediately after. Use the addParticle method on your defined force to do this."
   ]
  },
  {
   "cell_type": "code",
   "execution_count": 22,
   "metadata": {},
   "outputs": [],
   "source": [
    "for i, position in enumerate(pos_check):\n",
    "    custom_force.addParticle(i, position) # add particle to the force"
   ]
  },
  {
   "cell_type": "markdown",
   "metadata": {},
   "source": [
    "We've created the force, but now we have to add it to the system."
   ]
  },
  {
   "cell_type": "code",
   "execution_count": 23,
   "metadata": {},
   "outputs": [
    {
     "name": "stdout",
     "output_type": "stream",
     "text": [
      "<openmm.openmm.CustomExternalForce; proxy of <Swig Object of type 'OpenMM::CustomExternalForce *' at 0x10f1e7300> >\n"
     ]
    }
   ],
   "source": [
    "system.addForce(custom_force)\n",
    "print(system.getForces()[-1]) # check that the custom force is added"
   ]
  },
  {
   "cell_type": "markdown",
   "metadata": {},
   "source": [
    "Although we've added the force to the system, we're not done yet. The context doesn't know that we've updated the system, so we must reinitialize it to have everyone on the same page. This is an expensive operation and gets rid of the State information of the system, so we have to be careful when calling it. We've already created a saved state, so let's not worry about creating a new checkpoint. Next, we call reinitialize on the context and reload the State information."
   ]
  },
  {
   "cell_type": "code",
   "execution_count": 24,
   "metadata": {},
   "outputs": [],
   "source": [
    "# simulation.saveState('save_before_reinitialize.state')\n",
    "simulation.context.reinitialize()\n",
    "simulation.loadState('progress.state')"
   ]
  },
  {
   "cell_type": "markdown",
   "metadata": {},
   "source": [
    "Let's try running."
   ]
  },
  {
   "cell_type": "code",
   "execution_count": 25,
   "metadata": {},
   "outputs": [
    {
     "name": "stdout",
     "output_type": "stream",
     "text": [
      "<openmm.openmm.CustomExternalForce; proxy of <Swig Object of type 'OpenMM::CustomExternalForce *' at 0x12ea0f180> >\n"
     ]
    }
   ],
   "source": [
    "simulation.step(100)\n",
    "print(system.getForces()[-1]) # check that the custom force is still there"
   ]
  },
  {
   "cell_type": "markdown",
   "metadata": {},
   "source": [
    "Nice! It runs and the last force in our system is still the external force. Success!\n",
    "\n",
    "We can also update the PerParticleParameters as we simulate. You may think, \"Oh no! If I want to update the forces often, it'll be super expensive to save the State and reinitialize the Context each time.\" Fear not, for there is a quicker way. Feed the new perParticleParameters to your force object using the setParticleParameters method, then call updateParametersInContext to set them. Let's change the well from the pos_check positions to the pos_check1 positions.\n",
    "\n",
    "Arguments (in order) for setParticleParameters:\n",
    "- the index of the parameters you want to set for a given particle\n",
    "- the index of the particle in your system for which you are setting parameters\n",
    "- the parameters you would like to set"
   ]
  },
  {
   "cell_type": "code",
   "execution_count": 26,
   "metadata": {},
   "outputs": [
    {
     "name": "stdout",
     "output_type": "stream",
     "text": [
      "[[0, (0.2008859006675434, 0.11842863504607307, 0.057316175669822285)], [1, (0.19809007308329524, 0.21792571491153795, 0.012891919173006389)], [2, (0.13446251447139215, 0.28488719825368564, 0.07075981587404284)], [3, (0.1694145495993873, 0.21041633273397364, -0.09200004119429353)], [4, (0.34091094379447345, 0.26865917158895714, 0.0218835858396831)], [5, (0.4271801058232707, 0.2003369196106844, 0.0714640788244983)], [6, (0.360237874767523, 0.3912385368897973, -0.026737727288543883)], [7, (0.28148135313821226, 0.44114820280556033, -0.06556343461043566)], [8, (0.49260180170384993, 0.459545472476366, -0.02540161978884391)], [9, (0.5422926838073658, 0.4256596667368248, 0.06550255177308148)], [10, (0.571705375530753, 0.41593033346936364, -0.1504716202428917)], [11, (0.5171559721394899, 0.44198109621104775, -0.24117288940487497)], [12, (0.671739986806688, 0.4592190511513425, -0.15006747761887868)], [13, (0.5827019613679992, 0.3074928690559175, -0.14929207247542997)], [14, (0.4732578338435696, 0.6109933159315192, -0.021323339777321454)], [15, (0.36842066183762545, 0.6632497449786998, -0.05802871574906029)], [16, (0.5790868156396746, 0.683899909394925, 0.019128967191988734)], [17, (0.662258338916047, 0.6326287023226709, 0.04471726610461625)], [18, (0.579528908787261, 0.8296687950831266, 0.02918963777708317)], [19, (0.49900686826242524, 0.867303935538129, 0.09228319686124774)], [20, (0.6768394114706756, 0.8653941035202309, 0.06288486310978215)], [21, (0.558686952784892, 0.8709690614030459, -0.0695063657775986)]]\n",
      "[[0, (0.19247968862868112, 0.1119164659058894, 0.05145684830080486)], [1, (0.19766399965599324, 0.21123044848089992, 0.0068378402586348475)], [2, (0.1294766419403071, 0.27919689321259045, 0.05794602555769624)], [3, (0.1749860622095765, 0.20862840862814971, -0.09974518123194508)], [4, (0.3380067779624666, 0.2706301926270367, 0.02271384779294506)], [5, (0.4238805348507451, 0.20448966466410323, 0.07289303316994838)], [6, (0.35730411264246464, 0.39493058695001637, -0.02321798983080706)], [7, (0.2849566531150575, 0.45064284623948236, -0.06638034918237087)], [8, (0.48664531290432583, 0.4587219272997164, -0.02055390436128597)], [9, (0.5416604677285283, 0.4232887942192483, 0.06661733986420136)], [10, (0.5657225660473745, 0.41736770921901023, -0.1423018418118588)], [11, (0.5209460708707622, 0.46421853732100116, -0.22994353793162403)], [12, (0.6622674767378055, 0.4669127241454342, -0.13203657541492578)], [13, (0.5772532209659199, 0.3099934585064568, -0.15709418624648933)], [14, (0.4734173474743503, 0.610660507897121, -0.01776474831692242)], [15, (0.37189807886130233, 0.6630155098834795, -0.06176499268763953)], [16, (0.5827539314674549, 0.6818977646975775, 0.021973463947026473)], [17, (0.6649557906380318, 0.6282493956348137, 0.04575805656137786)], [18, (0.5915039595900278, 0.8265752295614328, 0.015800635023780228)], [19, (0.5238186257715262, 0.8607687811693092, 0.09409812272816453)], [20, (0.6901520992087912, 0.8576295023146532, 0.05022698599647222)], [21, (0.5668604020848936, 0.8709931110090099, -0.08063975235739741)]]\n"
     ]
    }
   ],
   "source": [
    "# Check parameters of the custom force\n",
    "particle_parameters = []\n",
    "for i in range(custom_force.getNumParticles()):\n",
    "    particle_parameters.append(custom_force.getParticleParameters(i))\n",
    "print(particle_parameters)\n",
    "\n",
    "# Change parameters of the custom force\n",
    "for i, position in enumerate(pos_check1):\n",
    "    custom_force.setParticleParameters(i, i, (position[0], position[1], position[2]))\n",
    "custom_force.updateParametersInContext(simulation.context)\n",
    "\n",
    "# Check parameters of the custom force again\n",
    "particle_parameters = []\n",
    "for i in range(custom_force.getNumParticles()):\n",
    "    particle_parameters.append(custom_force.getParticleParameters(i))\n",
    "print(particle_parameters)"
   ]
  },
  {
   "cell_type": "markdown",
   "metadata": {},
   "source": [
    "The forces have changed!"
   ]
  }
 ],
 "metadata": {
  "kernelspec": {
   "display_name": "martini",
   "language": "python",
   "name": "python3"
  },
  "language_info": {
   "codemirror_mode": {
    "name": "ipython",
    "version": 3
   },
   "file_extension": ".py",
   "mimetype": "text/x-python",
   "name": "python",
   "nbconvert_exporter": "python",
   "pygments_lexer": "ipython3",
   "version": "3.8.12"
  }
 },
 "nbformat": 4,
 "nbformat_minor": 2
}
