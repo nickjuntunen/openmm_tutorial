{
 "cells": [
  {
   "cell_type": "markdown",
   "metadata": {},
   "source": [
    "# OpenMM Tutorial\n",
    "\n",
    "Platform for molecular dynamics. Customizable, open-source, supports CUDA, etc.\n",
    "\n",
    "OpenMM has weird documentation. Often the first link if you google openmm points you to an old version (7.0.0). Look for the 8.1.0 version if you are up to date."
   ]
  },
  {
   "cell_type": "markdown",
   "metadata": {},
   "source": [
    "## Imports\n",
    "\n",
    "Along with the main openmm import, there are two libraries that are particularly useful: openmm.app and openmm.unit. openmm.unit is appropriately named and allows users to define simulations in the unit system they prefer.\n",
    "\n",
    "openmm.app is a set of libraries for the high-level application layer. This provides easier interfacing with your code to tune general parameters and run simulations. We will focus on this to begin, and we will return to the lower-level libraries in openmm later in the tutorial."
   ]
  },
  {
   "cell_type": "code",
   "execution_count": 1,
   "metadata": {},
   "outputs": [],
   "source": [
    "import openmm as mm\n",
    "import openmm.app as app\n",
    "import openmm.unit as u\n",
    "import numpy as np"
   ]
  },
  {
   "cell_type": "markdown",
   "metadata": {},
   "source": [
    "## Input structures and forcefields\n",
    "\n",
    "OpenMM supports multiple types of input files. The most familiar and useful for us is the PDB filetype, though .gro (Gromacs), .inpcrd/.prmtop (AMBER), and .psf (CHARMM) are also used.$^*$ A PDB file is read using the application layer, and the topology and coordinates are stored in a PDBFile object. \n",
    "\n",
    "\n",
    "###### $^*$ These usually require both coordinate and topology files, and the system is created on the topology object. "
   ]
  },
  {
   "cell_type": "code",
   "execution_count": 2,
   "metadata": {},
   "outputs": [
    {
     "name": "stdout",
     "output_type": "stream",
     "text": [
      "<Topology; 1 chains, 3 residues, 22 atoms, 21 bonds>\n",
      "[Vec3(x=0.2, y=0.1, z=-0.0), Vec3(x=0.2, y=0.209, z=0.0), Vec3(x=0.1486, y=0.24540000000000003, z=0.08900000000000001), Vec3(x=0.1486, y=0.24540000000000003, z=-0.08900000000000001), Vec3(x=0.3427, y=0.2641, z=-0.0), Vec3(x=0.43910000000000005, y=0.1877, z=-0.0), Vec3(x=0.35550000000000004, y=0.397, z=-0.0), Vec3(x=0.27330000000000004, y=0.4556, z=-0.0), Vec3(x=0.4853, y=0.46140000000000003, z=-0.0), Vec3(x=0.5408000000000001, y=0.4316, z=0.08900000000000001), Vec3(x=0.5660999999999999, y=0.42210000000000003, z=-0.1232), Vec3(x=0.5123000000000001, y=0.4521, z=-0.21309999999999998), Vec3(x=0.663, y=0.47190000000000004, z=-0.1206), Vec3(x=0.5809000000000001, y=0.31410000000000005, z=-0.12410000000000002), Vec3(x=0.47130000000000005, y=0.6129, z=0.0), Vec3(x=0.36010000000000003, y=0.6653, z=0.0), Vec3(x=0.5846, y=0.6835, z=0.0), Vec3(x=0.6737000000000001, y=0.6359, z=-0.0), Vec3(x=0.5846, y=0.8284000000000001, z=0.0), Vec3(x=0.4819, y=0.8648, z=0.0), Vec3(x=0.6360000000000001, y=0.8648, z=0.08900000000000001), Vec3(x=0.6360000000000001, y=0.8648, z=-0.08900000000000001)] nm\n"
     ]
    }
   ],
   "source": [
    "pdb = app.PDBFile(\"alanine-dipeptide.pdb\")\n",
    "print(pdb.topology)\n",
    "print(pdb.positions)"
   ]
  },
  {
   "cell_type": "markdown",
   "metadata": {},
   "source": [
    "To change your unit system, use the .value_in_unit() method. This gives the number in the new units, but it doesn't include the unit. Multiply by openmm.unit.(your_unit) to reintroduce it."
   ]
  },
  {
   "cell_type": "code",
   "execution_count": 3,
   "metadata": {},
   "outputs": [
    {
     "name": "stdout",
     "output_type": "stream",
     "text": [
      "(Vec3(x=10.0, y=0.0, z=0.0), Vec3(x=0.0, y=10.0, z=0.0), Vec3(x=0.0, y=0.0, z=10.0)) nm\n",
      "(Vec3(x=100.0, y=0.0, z=0.0), Vec3(x=0.0, y=100.0, z=0.0), Vec3(x=0.0, y=0.0, z=100.0)) A\n"
     ]
    }
   ],
   "source": [
    "print(pdb.topology.getPeriodicBoxVectors()) # get box vectors in nm\n",
    "print(pdb.topology.getPeriodicBoxVectors().value_in_unit(u.angstrom) * u.angstrom) # get box vectors in angstroms"
   ]
  },
  {
   "cell_type": "markdown",
   "metadata": {},
   "source": [
    "Forcefields are specified with their corresponding XML files and can be called with the ForceField class in the application layer. Many forcefields, such as amber14 shown below, are included with OpenMM and do not require the XML file where you are running the simulation."
   ]
  },
  {
   "cell_type": "code",
   "execution_count": 4,
   "metadata": {},
   "outputs": [],
   "source": [
    "forcefield = app.ForceField('amber14-all.xml')"
   ]
  },
  {
   "cell_type": "markdown",
   "metadata": {},
   "source": [
    "Many times, water models are separated from the main forcefield and should be called separately (e.g. forcefield=app.ForceField('amber14-all.xml', 'amber14/tip3p.xml')). This lends flexibility in the choice of water model (implicit vs explicit, different methods, etc.). http://docs.openmm.org/latest/userguide/application/02_running_sims.html#force-fields provides an overview of a couple forcefields built into OpenMM. Note that some models require the topology to be adjusted to account for waters in the system.\n",
    "\n",
    "You might sometimes want (or need) to use a forcefield that is not built into OpenMM. Most of the time, you can just download the appropriate xml file into the appropriate folder within the openmm package. There is also the OpenMMForceFields package itself (https://github.com/openmm/openmmforcefields) which expands the available range of forcefields available to you."
   ]
  },
  {
   "cell_type": "markdown",
   "metadata": {},
   "source": [
    "## System objects\n",
    "\n",
    "The System defines what you are simulating using the forcefield, topology, nonbonded considerations, and other parameters depending on the forcefield you use. It is created by calling .createSystem() on your forcefield."
   ]
  },
  {
   "cell_type": "code",
   "execution_count": 5,
   "metadata": {},
   "outputs": [],
   "source": [
    "system = forcefield.createSystem(pdb.topology,\n",
    "                                 nonbondedMethod=app.NoCutoff, # implies non-periodicity, isolated box in vacuum\n",
    "                                                               # Use PME for periodic cases\n",
    "                                 constraints=app.HBonds)"
   ]
  },
  {
   "cell_type": "markdown",
   "metadata": {},
   "source": [
    "If simulating some bulk periodic system: to prevent issues with periodic images, the nonbondedCutoff must be less than $\\frac{1}{2}({\\rm box~vectors})$."
   ]
  },
  {
   "cell_type": "markdown",
   "metadata": {},
   "source": [
    "## Platform objects\n",
    "\n",
    "On what hardware do you want to simulate your system? There are four options provided by OpenMM, but only two are worth considering for our uses: CUDA and CPU.$^*$ There are two options to implicitly choose a platform. (1) OpenMM defaults to the fastest option available, and (2) you can set the OPENMM_DEFAULT_PLATFORM environment variable to your choice.\n",
    "\n",
    "Alternatively, to explicitly specify on which device you would like to run the calculations, simply do\n",
    "\n",
    "###### $^*$ The other platforms are Reference and OpenCL. Reference is mainly a tool for writing your own platform and does not optimize performance. OpenCL works with GPUs and CPUs, is written in OpenCL, and is useful if you're working with non-Nvidia graphics cards."
   ]
  },
  {
   "cell_type": "code",
   "execution_count": 6,
   "metadata": {},
   "outputs": [],
   "source": [
    "platform = mm.Platform.getPlatformByName('CPU') # 'CUDA' if a GPU is available"
   ]
  },
  {
   "cell_type": "markdown",
   "metadata": {},
   "source": [
    "## Integrators, thermostats, and barostats\n",
    "For a list of available integrators, see http://docs.openmm.org/latest/userguide/application/02_running_sims.html#integrators.\n",
    "\n",
    "#### NVE integrators, thermostats\n",
    "E.g. VerletIntegrator\n",
    "\n",
    "You can add a thermostat to these integrators to perform NVT simulations, but Langevin integrators are preferred. To add the thermostat, apply .addForce(your_thermostat) to the system object."
   ]
  },
  {
   "cell_type": "code",
   "execution_count": 7,
   "metadata": {},
   "outputs": [],
   "source": [
    "# way to remove forces (e.g. thermostat) from the system\n",
    "def manual_remove_force(system, force_object):\n",
    "    for i, force in enumerate(system.getForces()): # Checks all of the force contributions on the system\n",
    "        if f'{force}'[0:50] == f'{force_object}'[0:50]: # Takes out any that match your argument\n",
    "            system.removeForce(i)\n",
    "            return True\n",
    "    return False"
   ]
  },
  {
   "cell_type": "code",
   "execution_count": 8,
   "metadata": {},
   "outputs": [
    {
     "name": "stdout",
     "output_type": "stream",
     "text": [
      "<openmm.openmm.AndersenThermostat; proxy of <Swig Object of type 'OpenMM::AndersenThermostat *' at 0x7feb39dde1b0> >\n"
     ]
    }
   ],
   "source": [
    "nve_integrator = mm.VerletIntegrator(0.001*u.picoseconds)\n",
    "\n",
    "thermostat = mm.AndersenThermostat(298.15*u.kelvin,\n",
    "                                   1.0/u.picosecond)\n",
    "\n",
    "manual_remove_force(system, thermostat) # Remove any existing thermostat (e.g. if the cell is re-run)\n",
    "\n",
    "system.addForce(thermostat) # Add the thermostat\n",
    "print(system.getForces()[-1])"
   ]
  },
  {
   "cell_type": "markdown",
   "metadata": {},
   "source": [
    "#### NVT integrators\n",
    "Langevin Middle Integrator: thermostat built into this, good for NVT simulations.\n",
    "\n",
    "The app has a slightly different implementation called BAOAB Integrator - the difference here is that the Middle integrator returns half-step velocities while BAOAB returns on-step velocities. You might want one or the other depending on your use case.\n",
    "\n",
    "\n",
    "#### NPT simulations\n",
    "To run NPT simulations, you can add a barostat. Multiple kinds are built into OpenMM: isotropic, anisotropic, specifically for membranes, http://docs.openmm.org/development/api-python/library.html#forces. Note: the system must be periodic to use a barostat.\n",
    "\n",
    "Like thermostats, barostats need to be added to the system as forces."
   ]
  },
  {
   "cell_type": "code",
   "execution_count": 9,
   "metadata": {},
   "outputs": [
    {
     "name": "stdout",
     "output_type": "stream",
     "text": [
      "<openmm.openmm.MonteCarloBarostat; proxy of <Swig Object of type 'OpenMM::MonteCarloBarostat *' at 0x7feb39dd3510> >\n"
     ]
    }
   ],
   "source": [
    "# remove thermostat if we use Langevin integrator\n",
    "manual_remove_force(system, thermostat)\n",
    "#print(system.getForces()) # check that the thermostat is removed\n",
    "\n",
    "integrator = mm.LangevinMiddleIntegrator(300 * u.kelvin,           # temperature of the heat bath\n",
    "                                         1.0 / u.picosecond,       # friction coefficient\n",
    "                                         2.0 * u.femtosecond)      # integration timestep\n",
    "\n",
    "barostat = mm.MonteCarloBarostat(1.0 * u.bar,       # pressure\n",
    "                                 300 * u.kelvin,    # temperature - match with integrator\n",
    "                                 25)                # frequency of volume change attempts in number of time steps\n",
    "\n",
    "manual_remove_force(system, barostat) # prevent adding a second barostat if cell rerun\n",
    "\n",
    "system.addForce(barostat)\n",
    "print(system.getForces()[-1])"
   ]
  },
  {
   "cell_type": "markdown",
   "metadata": {},
   "source": [
    "Let's remove the barostat for now and just work with the NVT ensemble."
   ]
  },
  {
   "cell_type": "code",
   "execution_count": 10,
   "metadata": {},
   "outputs": [
    {
     "name": "stdout",
     "output_type": "stream",
     "text": [
      "[<openmm.openmm.HarmonicBondForce; proxy of <Swig Object of type 'OpenMM::HarmonicBondForce *' at 0x7feb3e084a20> >, <openmm.openmm.HarmonicAngleForce; proxy of <Swig Object of type 'OpenMM::HarmonicAngleForce *' at 0x7feb3e084780> >, <openmm.openmm.PeriodicTorsionForce; proxy of <Swig Object of type 'OpenMM::PeriodicTorsionForce *' at 0x7feb3e0841b0> >, <openmm.openmm.NonbondedForce; proxy of <Swig Object of type 'OpenMM::NonbondedForce *' at 0x7feb39dd3120> >, <openmm.openmm.CMMotionRemover; proxy of <Swig Object of type 'OpenMM::CMMotionRemover *' at 0x7feb39dd3840> >]\n"
     ]
    }
   ],
   "source": [
    "manual_remove_force(system, barostat)\n",
    "print(system.getForces()) # check that the barostat is removed"
   ]
  },
  {
   "cell_type": "markdown",
   "metadata": {},
   "source": [
    "#### Custom integrators\n",
    "Instead of using an established integrator, you can also create your own. One example of this utility is with separated timescales; if you need to integrate over a fast process and a slow one, you can write an integrator that accomplishes this task efficiently:"
   ]
  },
  {
   "cell_type": "code",
   "execution_count": 11,
   "metadata": {},
   "outputs": [
    {
     "name": "stdout",
     "output_type": "stream",
     "text": [
      "<openmm.openmm.CustomIntegrator; proxy of <Swig Object of type 'OpenMM::CustomIntegrator *' at 0x7feb39dd3e10> >\n"
     ]
    }
   ],
   "source": [
    "custom_integrator = mm.CustomIntegrator(0.002*u.picoseconds) # 2 fs time step\n",
    "custom_integrator.addComputePerDof('v', 'v+0.5*dt*f1/m') # OpenMM knows how to parse these strings\n",
    "for _ in range(4):\n",
    "    custom_integrator.addComputePerDof('v', 'v+0.5*(dt/4)*f0/m')\n",
    "    custom_integrator.addComputePerDof('x', 'x+(dt/4)*v')\n",
    "    custom_integrator.addComputePerDof('v', 'v+0.5*(dt/4)*f0/m')\n",
    "custom_integrator.addComputePerDof('v', 'v+0.5*dt*f1/m')\n",
    "\n",
    "print(custom_integrator)"
   ]
  },
  {
   "cell_type": "markdown",
   "metadata": {},
   "source": [
    "## Simulation objects\n",
    "\n",
    "The Simulation object creates a context that brings everything together."
   ]
  },
  {
   "cell_type": "code",
   "execution_count": 12,
   "metadata": {},
   "outputs": [],
   "source": [
    "simulation = app.Simulation(pdb.topology, system, integrator, platform)"
   ]
  },
  {
   "cell_type": "markdown",
   "metadata": {},
   "source": [
    "Most of the useful simulation information is accessed through the 'context' class. This is the specific istantiation of your system as it is simulated. In fact, if you want, you can work directly with the context class as oppossed to the simulation class; however, the simulation class creates a context by default and bundles together reporter utilities in a nice way, so it is an excellent option."
   ]
  },
  {
   "cell_type": "code",
   "execution_count": 13,
   "metadata": {},
   "outputs": [
    {
     "name": "stdout",
     "output_type": "stream",
     "text": [
      "<openmm.openmm.Context; proxy of <Swig Object of type 'OpenMM::Context *' at 0x7feb39dd3870> >\n"
     ]
    }
   ],
   "source": [
    "print(simulation.context)"
   ]
  },
  {
   "cell_type": "markdown",
   "metadata": {},
   "source": [
    "The next level of abstraction from the context is the 'state'. This is more or less an in-memory report of the current *state* of the simulation. You can create a state from a context at any time; when you do this, you must specify what data (positions, velocities, energy, etc.) you want to access. Then you can get those quantities directly from the state object."
   ]
  },
  {
   "cell_type": "code",
   "execution_count": 14,
   "metadata": {},
   "outputs": [
    {
     "name": "stdout",
     "output_type": "stream",
     "text": [
      "<openmm.openmm.State; proxy of <Swig Object of type 'OpenMM::State *' at 0x7feb39dd3390> >\n",
      "[Vec3(x=0.0, y=0.0, z=0.0), Vec3(x=0.0, y=0.0, z=0.0), Vec3(x=0.0, y=0.0, z=0.0), Vec3(x=0.0, y=0.0, z=0.0), Vec3(x=0.0, y=0.0, z=0.0), Vec3(x=0.0, y=0.0, z=0.0), Vec3(x=0.0, y=0.0, z=0.0), Vec3(x=0.0, y=0.0, z=0.0), Vec3(x=0.0, y=0.0, z=0.0), Vec3(x=0.0, y=0.0, z=0.0), Vec3(x=0.0, y=0.0, z=0.0), Vec3(x=0.0, y=0.0, z=0.0), Vec3(x=0.0, y=0.0, z=0.0), Vec3(x=0.0, y=0.0, z=0.0), Vec3(x=0.0, y=0.0, z=0.0), Vec3(x=0.0, y=0.0, z=0.0), Vec3(x=0.0, y=0.0, z=0.0), Vec3(x=0.0, y=0.0, z=0.0), Vec3(x=0.0, y=0.0, z=0.0), Vec3(x=0.0, y=0.0, z=0.0), Vec3(x=0.0, y=0.0, z=0.0), Vec3(x=0.0, y=0.0, z=0.0)] nm\n"
     ]
    }
   ],
   "source": [
    "state = (simulation.context.getState(getPositions = True, getVelocities = True))\n",
    "print(state)\n",
    "print(state.getPositions()) # Note that currently all of the positions are 0."
   ]
  },
  {
   "cell_type": "markdown",
   "metadata": {},
   "source": [
    "You must explicitly set the positions and velocities of the particles after creating the simulation, which is easily done with the PDBFile object defined above and the .setVelocitiesToTemperature() method, respectively."
   ]
  },
  {
   "cell_type": "code",
   "execution_count": 15,
   "metadata": {},
   "outputs": [
    {
     "name": "stdout",
     "output_type": "stream",
     "text": [
      "[[ 0.2     0.1    -0.    ]\n",
      " [ 0.2     0.209   0.    ]\n",
      " [ 0.1486  0.2454  0.089 ]\n",
      " [ 0.1486  0.2454 -0.089 ]\n",
      " [ 0.3427  0.2641 -0.    ]\n",
      " [ 0.4391  0.1877 -0.    ]\n",
      " [ 0.3555  0.397  -0.    ]\n",
      " [ 0.2733  0.4556 -0.    ]\n",
      " [ 0.4853  0.4614 -0.    ]\n",
      " [ 0.5408  0.4316  0.089 ]\n",
      " [ 0.5661  0.4221 -0.1232]\n",
      " [ 0.5123  0.4521 -0.2131]\n",
      " [ 0.663   0.4719 -0.1206]\n",
      " [ 0.5809  0.3141 -0.1241]\n",
      " [ 0.4713  0.6129  0.    ]\n",
      " [ 0.3601  0.6653  0.    ]\n",
      " [ 0.5846  0.6835  0.    ]\n",
      " [ 0.6737  0.6359 -0.    ]\n",
      " [ 0.5846  0.8284  0.    ]\n",
      " [ 0.4819  0.8648  0.    ]\n",
      " [ 0.636   0.8648  0.089 ]\n",
      " [ 0.636   0.8648 -0.089 ]] nm\n",
      "[[ 2.40850459e+00  3.47706924e-01  7.45967432e-01]\n",
      " [ 1.73051733e-03  3.47706925e-01  1.17483804e-02]\n",
      " [ 1.52037474e+00 -3.57714501e-01  1.17731750e+00]\n",
      " [-1.02195568e+00 -2.56832962e+00 -5.89670278e-01]\n",
      " [-7.18912181e-01  2.35245202e-01 -2.12659845e-01]\n",
      " [-1.18072458e-01 -1.32253602e-01  8.51090996e-02]\n",
      " [-3.78384170e-01  4.12082551e-01 -7.90415554e-01]\n",
      " [-1.38521805e+00 -1.00023391e+00 -1.06918978e+00]\n",
      " [ 1.90471865e-01  6.37305021e-01 -2.29533836e-01]\n",
      " [-1.21404438e-01 -3.67447470e-01 -3.71471919e-01]\n",
      " [-5.93329087e-01 -5.97436230e-01 -3.38935299e-02]\n",
      " [-4.10330426e-01 -1.31185965e-01  1.21818741e-02]\n",
      " [ 6.54277952e-02 -1.77687243e+00 -1.99451632e+00]\n",
      " [ 1.67788300e+00 -2.92565927e-01  7.30488450e-01]\n",
      " [ 3.26041404e-01  4.40753925e-01 -4.36320848e-01]\n",
      " [ 2.52995808e-01  1.32602274e-01 -2.22062058e-01]\n",
      " [ 5.92211832e-01 -1.95446841e-01  6.60172110e-01]\n",
      " [ 1.08724605e+00  7.31182343e-01 -5.91847748e-01]\n",
      " [ 5.05966129e-01  6.08774159e-01 -2.33971712e-01]\n",
      " [ 4.18275866e-01  3.61362414e-01  1.96244512e+00]\n",
      " [-2.29594234e+00 -5.45570380e-01  1.85632310e+00]\n",
      " [-2.47217801e+00  1.67089305e+00 -1.51953898e+00]] nm/ps\n"
     ]
    }
   ],
   "source": [
    "simulation.context.setPositions(pdb.positions)\n",
    "simulation.context.setVelocitiesToTemperature(300*u.kelvin)\n",
    "print(simulation.context.getState(getPositions=True).getPositions(asNumpy=True))\n",
    "print(simulation.context.getState(getVelocities=True).getVelocities(asNumpy=True))"
   ]
  },
  {
   "cell_type": "markdown",
   "metadata": {},
   "source": [
    "We can now run the simulation! We first minimize the energy of the system through a geometry relaxation, then we can step through our equations of motion. We'll only run a few steps here and save the state of the system. Once we have the tools to track our data, we'll let it go longer."
   ]
  },
  {
   "cell_type": "code",
   "execution_count": 16,
   "metadata": {},
   "outputs": [
    {
     "name": "stdout",
     "output_type": "stream",
     "text": [
      "Minimizing energy...\n",
      "Done minimizing energy.\n"
     ]
    }
   ],
   "source": [
    "print(\"Minimizing energy...\")\n",
    "simulation.minimizeEnergy(maxIterations=100000,tolerance=0.000001)\n",
    "print(\"Done minimizing energy.\")\n",
    "simulation.step(1)"
   ]
  },
  {
   "cell_type": "markdown",
   "metadata": {},
   "source": [
    "## More on the State object\n",
    "\n",
    "The State object lets you pull information about the state of the system (positions, velocities, forces, energies, etc.). You must provide the specific information you want to be stored in the State, which can then be accessed by calling .getPositions(), .getVelocities(), etc. By default, these are returned as N Vec3 objects for N atoms in your system, but you can get Numpy arrays by setting asNumpy=True in the method argument."
   ]
  },
  {
   "cell_type": "code",
   "execution_count": 17,
   "metadata": {},
   "outputs": [
    {
     "name": "stdout",
     "output_type": "stream",
     "text": [
      "[Vec3(x=0.19963185370353145, y=0.11820687177946378, z=10.05786317582109), Vec3(x=0.19846516362791244, y=0.21785838998473578, z=10.013712241677355), Vec3(x=0.135144703471111, y=0.28368919023626554, z=10.073192537955382), Vec3(x=0.16576502915693572, y=0.20867701978906508, z=9.910138486008524), Vec3(x=0.33882023228684777, y=0.269166679742621, z=10.021369336626158), Vec3(x=0.427871531908175, y=0.1991378201526536, z=10.071603123355054), Vec3(x=0.3613499594019822, y=0.3914035073744376, z=9.971481401853715), Vec3(x=0.28138706035440003, y=0.4411768764515504, z=9.935018138277583), Vec3(x=0.4919762765017514, y=0.459955097686348, z=9.973358508476652), Vec3(x=0.5464022872889448, y=0.4281604032533161, z=10.062284945684357), Vec3(x=0.5703869967919615, y=0.4136485619113789, z=9.85010338798742), Vec3(x=0.5175180020915123, y=0.44313079412566614, z=9.759457608692367), Vec3(x=0.6696785923928333, y=0.45846597218644874, z=9.846434523915528), Vec3(x=0.588283971424771, y=0.3061623412319968, z=9.852812304605303), Vec3(x=0.47436663801065065, y=0.6124444326132732, z=9.977376805585275), Vec3(x=0.36797089578067455, y=0.6632765549190879, z=9.942971644854813), Vec3(x=0.5795322554940756, y=0.6835602455710643, z=10.0212111541387), Vec3(x=0.6650320284166826, y=0.6355528533292814, z=10.045420225358809), Vec3(x=0.5788722158134472, y=0.8311923481583596, z=10.02855261386479), Vec3(x=0.5014830457622876, y=0.8623240992883816, z=10.098715069804017), Vec3(x=0.6727064268369485, y=0.8654397408067357, z=10.072179832521295), Vec3(x=0.5560924266141977, y=0.8746299141515698, z=9.931211782767344)] nm\n",
      "[[ 2.43600666  0.52062638  0.79822498]\n",
      " [ 0.0255146   0.14750127  0.04312909]\n",
      " [ 1.12331448  0.04453022  1.5160989 ]\n",
      " [-0.55301759 -2.75516403  0.45909108]\n",
      " [-0.72288909  0.09490381 -0.0739968 ]\n",
      " [-0.11535806 -0.29412865  0.21289146]\n",
      " [-0.36170159  0.23794599 -0.7252865 ]\n",
      " [-1.23787421 -1.20724059 -0.98523027]\n",
      " [ 0.16834634  0.53916493 -0.09201956]\n",
      " [-0.09882422 -0.26354483 -0.17677796]\n",
      " [-0.57833204 -0.73393304  0.11596714]\n",
      " [-0.42340963 -0.29961349  0.08548003]\n",
      " [ 0.03963965 -2.06372728 -1.91467557]\n",
      " [ 1.67698525 -0.40377111  0.9066695 ]\n",
      " [ 0.3350065   0.29834753 -0.34090607]\n",
      " [ 0.24922755 -0.01598676 -0.09128486]\n",
      " [ 0.55785442 -0.33993726  0.77217239]\n",
      " [ 1.19793143  0.29868669 -0.23047919]\n",
      " [ 0.21681326  0.57231671 -0.21483602]\n",
      " [ 1.23345412 -0.16004077  1.27842445]\n",
      " [-0.84484137 -0.14405899  2.66368871]\n",
      " [-2.12258033  0.62275523  0.26728713]] nm/ps\n"
     ]
    }
   ],
   "source": [
    "current_state = simulation.context.getState(getPositions=True,\n",
    "                                            getVelocities=True,\n",
    "                                            getEnergy=True,\n",
    "                                            getForces=True,\n",
    "                                            getParameters=True,\n",
    "                                            enforcePeriodicBox=True\n",
    "                                            )\n",
    "positions = current_state.getPositions()\n",
    "velocities = current_state.getVelocities(asNumpy=True)\n",
    "print(positions)\n",
    "print(velocities)"
   ]
  },
  {
   "cell_type": "markdown",
   "metadata": {},
   "source": [
    "## Saving states\n",
    "We can save the State of our simulation as well by calling the saveState method on the simulation. There are actually two options to save at a given point in the simulation: saveState and saveCheckpoint. saveState creates a text file containing positions, velocities, forces, and many other parameters of the simulation. Because it is a text file, it can be used across different machines but can create a large document. Alternatively, saveCheckpoint saves a binary file with this information and should be only used on consistent hardware."
   ]
  },
  {
   "cell_type": "code",
   "execution_count": 18,
   "metadata": {},
   "outputs": [],
   "source": [
    "simulation.saveState('progress.state')\n",
    "pos_check = simulation.context.getState(getPositions=True).getPositions(asNumpy=True) # check that loadState will give the same positions"
   ]
  },
  {
   "cell_type": "markdown",
   "metadata": {},
   "source": [
    "## Reporters\n",
    "Reporter objects store simulation data and save it to a file (.log, .pdb, .xtc, ...). You can choose how often you want to save a frame of the simulation (reportInterval), whether to have coordinates enforce periodicity (enforcePeriodicBox for PDBReporter), and what data you would like to keep. The data reporter must be appended to simulation.reporters to save any information about the simulation.\n",
    "\n",
    "In addition to the one-off save options above, there is also a saveCheckpoint reporter that will automatically create a checkpoint file every $n$ steps in the simulation. There's an optional argument to save the system as a serialized State file (like .saveState) as well."
   ]
  },
  {
   "cell_type": "code",
   "execution_count": 19,
   "metadata": {},
   "outputs": [
    {
     "ename": "TypeError",
     "evalue": "__init__() got an unexpected keyword argument 'writeState'",
     "output_type": "error",
     "traceback": [
      "\u001b[0;31m---------------------------------------------------------------------------\u001b[0m",
      "\u001b[0;31mTypeError\u001b[0m                                 Traceback (most recent call last)",
      "Cell \u001b[0;32mIn[19], line 18\u001b[0m\n\u001b[1;32m      1\u001b[0m state_data_reporter \u001b[38;5;241m=\u001b[39m app\u001b[38;5;241m.\u001b[39mStateDataReporter(file\u001b[38;5;241m=\u001b[39m\u001b[38;5;124m'\u001b[39m\u001b[38;5;124mnvt_output.log\u001b[39m\u001b[38;5;124m'\u001b[39m,\n\u001b[1;32m      2\u001b[0m                                             reportInterval\u001b[38;5;241m=\u001b[39m\u001b[38;5;241m1\u001b[39m,\n\u001b[1;32m      3\u001b[0m                                             step\u001b[38;5;241m=\u001b[39m\u001b[38;5;28;01mTrue\u001b[39;00m,\n\u001b[0;32m   (...)\u001b[0m\n\u001b[1;32m     11\u001b[0m                                             speed\u001b[38;5;241m=\u001b[39m\u001b[38;5;28;01mTrue\u001b[39;00m,\n\u001b[1;32m     12\u001b[0m                                             separator\u001b[38;5;241m=\u001b[39m\u001b[38;5;124m'\u001b[39m\u001b[38;5;124m \u001b[39m\u001b[38;5;124m'\u001b[39m)\n\u001b[1;32m     14\u001b[0m pdb_reporter \u001b[38;5;241m=\u001b[39m app\u001b[38;5;241m.\u001b[39mPDBReporter(file\u001b[38;5;241m=\u001b[39m\u001b[38;5;124m'\u001b[39m\u001b[38;5;124mnvt_output.pdb\u001b[39m\u001b[38;5;124m'\u001b[39m,\n\u001b[1;32m     15\u001b[0m                                reportInterval\u001b[38;5;241m=\u001b[39m\u001b[38;5;241m4\u001b[39m,\n\u001b[1;32m     16\u001b[0m                                enforcePeriodicBox\u001b[38;5;241m=\u001b[39m\u001b[38;5;28;01mTrue\u001b[39;00m)\n\u001b[0;32m---> 18\u001b[0m checkpoint_reporter \u001b[38;5;241m=\u001b[39m \u001b[43mapp\u001b[49m\u001b[38;5;241;43m.\u001b[39;49m\u001b[43mCheckpointReporter\u001b[49m\u001b[43m(\u001b[49m\u001b[43mfile\u001b[49m\u001b[38;5;241;43m=\u001b[39;49m\u001b[38;5;124;43m'\u001b[39;49m\u001b[38;5;124;43mcheckpnt.chk\u001b[39;49m\u001b[38;5;124;43m'\u001b[39;49m\u001b[43m,\u001b[49m\n\u001b[1;32m     19\u001b[0m \u001b[43m                                             \u001b[49m\u001b[43mreportInterval\u001b[49m\u001b[38;5;241;43m=\u001b[39;49m\u001b[38;5;241;43m5\u001b[39;49m\u001b[43m,\u001b[49m\n\u001b[1;32m     20\u001b[0m \u001b[43m                                             \u001b[49m\u001b[43mwriteState\u001b[49m\u001b[38;5;241;43m=\u001b[39;49m\u001b[38;5;28;43;01mFalse\u001b[39;49;00m\u001b[43m)\u001b[49m\n\u001b[1;32m     22\u001b[0m simulation\u001b[38;5;241m.\u001b[39mreporters\u001b[38;5;241m.\u001b[39mappend(state_data_reporter)\n\u001b[1;32m     23\u001b[0m simulation\u001b[38;5;241m.\u001b[39mreporters\u001b[38;5;241m.\u001b[39mappend(pdb_reporter)\n",
      "\u001b[0;31mTypeError\u001b[0m: __init__() got an unexpected keyword argument 'writeState'"
     ]
    }
   ],
   "source": [
    "state_data_reporter = app.StateDataReporter(file='nvt_output.log',\n",
    "                                            reportInterval=1,\n",
    "                                            step=True,\n",
    "                                            time=True,\n",
    "                                            potentialEnergy=True,\n",
    "                                            kineticEnergy=True,\n",
    "                                            totalEnergy=True,\n",
    "                                            temperature=True,\n",
    "                                            volume=True,\n",
    "                                            density=True,\n",
    "                                            speed=True,\n",
    "                                            separator=' ')\n",
    "\n",
    "pdb_reporter = app.PDBReporter(file='nvt_output.pdb',\n",
    "                               reportInterval=4,\n",
    "                               enforcePeriodicBox=True)\n",
    "\n",
    "checkpoint_reporter = app.CheckpointReporter(file='checkpnt.chk',\n",
    "                                             reportInterval=5,\n",
    "                                             writeState=False)\n",
    "\n",
    "simulation.reporters.append(state_data_reporter)\n",
    "simulation.reporters.append(pdb_reporter)\n",
    "simulation.reporters.append(checkpoint_reporter)"
   ]
  },
  {
   "cell_type": "code",
   "execution_count": null,
   "metadata": {},
   "outputs": [],
   "source": [
    "simulation.step(10)"
   ]
  },
  {
   "cell_type": "markdown",
   "metadata": {},
   "source": [
    "You should now see three new files in your directory: output.log, output.pdb, and checkpnt.chk.\n",
    "\n",
    "## Loading states\n",
    "Let's load the State we saved earlier. We'll first check that our positions have evolved and are not the same as those in the saved State."
   ]
  },
  {
   "cell_type": "code",
   "execution_count": null,
   "metadata": {},
   "outputs": [],
   "source": [
    "pos_check1 = simulation.context.getState(getPositions=True).getPositions(asNumpy=True) # check that positions are different than pos_check\n",
    "print(np.all(pos_check == pos_check1)) # should be false"
   ]
  },
  {
   "cell_type": "markdown",
   "metadata": {},
   "source": [
    "Now we can load the saved State and check if the positions are the same."
   ]
  },
  {
   "cell_type": "code",
   "execution_count": null,
   "metadata": {},
   "outputs": [],
   "source": [
    "simulation.loadState('progress.state')\n",
    "\n",
    "pos_check2 = simulation.context.getState(getPositions=True).getPositions(asNumpy=True) # check that loadState will give the same positions\n",
    "print(np.all(pos_check == pos_check2)) # should be true"
   ]
  },
  {
   "cell_type": "markdown",
   "metadata": {},
   "source": [
    "## (Custom) Forces\n",
    "\n",
    "We saw with thermostats and barostats that forces could be added outside of the forcefield rules. We can also add whichever forces we see fit using system.addForces(). A link to available forces is here: http://docs.openmm.org/development/api-python/library.html#forces. As we saw an example of adding pre-defined forces to the system above with thermostats and barostats, here we will focus on custom forces. OpenMM lets you write an analytical energy expression and apply the corresponding force to bonds, as an external force on particles, and more. Here we will write a force to trap atoms in our structure in an harmonic well.\n",
    "\n",
    "There are different kinds of parameters we can set when defining a custom force. Global Parameters apply to all objects experiencing the force, whereas Per Particle Parameters are appropriately named and can have a unique value for every particle. In this case, our spring constant will be global and the positions in which we trap the atoms will be per particle."
   ]
  },
  {
   "cell_type": "code",
   "execution_count": null,
   "metadata": {},
   "outputs": [],
   "source": [
    "print(system.getForces()[-1]) # check the last force in the list, should change once we add custom force\n",
    "custom_force = mm.CustomExternalForce('k*((x-x0)^2+(y-y0)^2+(z-z0)^2)') # energy function associated with the force we want to add\n",
    "custom_force.addGlobalParameter('k', 1.0)\n",
    "custom_force.addPerParticleParameter('x0')\n",
    "custom_force.addPerParticleParameter('y0')\n",
    "custom_force.addPerParticleParameter('z0');"
   ]
  },
  {
   "cell_type": "markdown",
   "metadata": {},
   "source": [
    "Next, we want to add each particle to the force as well as the reference positions to each particle. We add particles according to their indices (enumerating over positions is a helpful way to get these), and we add the per particle parameter immediately after. Use the addParticle method on your defined force to do this."
   ]
  },
  {
   "cell_type": "code",
   "execution_count": null,
   "metadata": {},
   "outputs": [],
   "source": [
    "for i, position in enumerate(pos_check):\n",
    "    custom_force.addParticle(i, position) # add particle to the force"
   ]
  },
  {
   "cell_type": "markdown",
   "metadata": {},
   "source": [
    "We've created the force, but now we have to add it to the system."
   ]
  },
  {
   "cell_type": "code",
   "execution_count": null,
   "metadata": {},
   "outputs": [],
   "source": [
    "manual_remove_force(system, custom_force) # prevent adding a second custom force if cell rerun\n",
    "system.addForce(custom_force)\n",
    "print(system.getForces()[-1]) # check that the custom force is added"
   ]
  },
  {
   "cell_type": "markdown",
   "metadata": {},
   "source": [
    "Although we've added the force to the system, we're not done yet. The context doesn't know that we've updated the system, so we must reinitialize it to have everyone on the same page. This is an expensive operation and gets rid of the State information of the system, so we have to be careful when calling it. We've already created a saved state, so let's not worry about creating a new checkpoint. Next, we call reinitialize on the context and reload the State information."
   ]
  },
  {
   "cell_type": "code",
   "execution_count": null,
   "metadata": {},
   "outputs": [],
   "source": [
    "# simulation.saveState('save_before_reinitialize.state')\n",
    "simulation.context.reinitialize()\n",
    "simulation.loadState('progress.state')"
   ]
  },
  {
   "cell_type": "markdown",
   "metadata": {},
   "source": [
    "Let's try running."
   ]
  },
  {
   "cell_type": "code",
   "execution_count": null,
   "metadata": {},
   "outputs": [],
   "source": [
    "simulation.step(100)\n",
    "print(system.getForces()[-1]) # check that the custom force is still there"
   ]
  },
  {
   "cell_type": "markdown",
   "metadata": {},
   "source": [
    "Nice! It runs and the last force in our system is still the external force. Success!\n",
    "\n",
    "We can also update the PerParticleParameters as we simulate. You may think, \"Oh no! If I want to update the forces often, it'll be super expensive to save the State and reinitialize the Context each time.\" Fear not, for there is a quicker way. Feed the new perParticleParameters to your force object using the setParticleParameters method, then call updateParametersInContext to set them. Let's change the well from the pos_check positions to the pos_check1 positions.\n",
    "\n",
    "Arguments (in order) for setParticleParameters:\n",
    "- the index of the parameters you want to set for a given particle\n",
    "- the index of the particle in your system for which you are setting parameters\n",
    "- the parameters you would like to set"
   ]
  },
  {
   "cell_type": "code",
   "execution_count": null,
   "metadata": {},
   "outputs": [],
   "source": [
    "# Check parameters of the custom force\n",
    "particle_parameters = []\n",
    "for i in range(custom_force.getNumParticles()):\n",
    "    particle_parameters.append(custom_force.getParticleParameters(i))\n",
    "print(particle_parameters)\n",
    "\n",
    "# Change parameters of the custom force\n",
    "for i, position in enumerate(pos_check1):\n",
    "    custom_force.setParticleParameters(i, i, (position[0], position[1], position[2]))\n",
    "custom_force.updateParametersInContext(simulation.context)\n",
    "\n",
    "# Check parameters of the custom force again\n",
    "particle_parameters = []\n",
    "for i in range(custom_force.getNumParticles()):\n",
    "    particle_parameters.append(custom_force.getParticleParameters(i))\n",
    "print(particle_parameters)"
   ]
  },
  {
   "cell_type": "markdown",
   "metadata": {},
   "source": [
    "The force parameters have changed!"
   ]
  },
  {
   "cell_type": "markdown",
   "metadata": {},
   "source": []
  }
 ],
 "metadata": {
  "kernelspec": {
   "display_name": "Python 3 (ipykernel)",
   "language": "python",
   "name": "python3"
  },
  "language_info": {
   "codemirror_mode": {
    "name": "ipython",
    "version": 3
   },
   "file_extension": ".py",
   "mimetype": "text/x-python",
   "name": "python",
   "nbconvert_exporter": "python",
   "pygments_lexer": "ipython3",
   "version": "3.8.16"
  }
 },
 "nbformat": 4,
 "nbformat_minor": 2
}
