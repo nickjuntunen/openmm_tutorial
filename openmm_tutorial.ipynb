{
 "cells": [
  {
   "cell_type": "markdown",
   "metadata": {},
   "source": [
    "# OpenMM Tutorial\n",
    "\n",
    "Platform for molecular dynamics. Customizable, open-source, supports CUDA, etc.\n",
    "\n",
    "OpenMM has weird documentation. Often the first link if you google openmm points you to an old version (7.0.0). Look for the 8.1.0 version if you are up to date."
   ]
  },
  {
   "cell_type": "markdown",
   "metadata": {},
   "source": [
    "## Imports\n",
    "\n",
    "Along with the main openmm import, there are two libraries that are particularly useful: openmm.app and openmm.unit. openmm.unit is appropriately named and allows users to define simulations in the unit system they prefer.\n",
    "\n",
    "openmm.app is a set of libraries for the high-level application layer. This provides easier interfacing with your code to tune general parameters and run simulations. We will focus on this to begin, and we will return to the lower-level libraries in openmm later in the tutorial."
   ]
  },
  {
   "cell_type": "code",
   "execution_count": 1,
   "metadata": {},
   "outputs": [],
   "source": [
    "import openmm as mm\n",
    "import openmm.app as app\n",
    "import openmm.unit as u\n",
    "import numpy as np"
   ]
  },
  {
   "cell_type": "markdown",
   "metadata": {},
   "source": [
    "## Input structures and forcefields\n",
    "\n",
    "OpenMM supports multiple types of input files. The most familiar and useful for us is the PDB filetype, though .gro (Gromacs), .inpcrd/.prmtop (AMBER), and .psf (CHARMM) are also used.$^*$ A PDB file is read using the application layer, and the topology and coordinates are stored in a PDBFile object.\n",
    "\n",
    "\n",
    "###### $^*$ These usually require both coordinate and topology files, and the system is created on the topology object."
   ]
  },
  {
   "cell_type": "code",
   "execution_count": 2,
   "metadata": {},
   "outputs": [
    {
     "name": "stdout",
     "output_type": "stream",
     "text": [
      "<Topology; 1 chains, 3 residues, 22 atoms, 21 bonds>\n",
      "[Vec3(x=0.2, y=0.1, z=-0.0), Vec3(x=0.2, y=0.209, z=0.0), Vec3(x=0.1486, y=0.24540000000000003, z=0.08900000000000001), Vec3(x=0.1486, y=0.24540000000000003, z=-0.08900000000000001), Vec3(x=0.3427, y=0.2641, z=-0.0), Vec3(x=0.43910000000000005, y=0.1877, z=-0.0), Vec3(x=0.35550000000000004, y=0.397, z=-0.0), Vec3(x=0.27330000000000004, y=0.4556, z=-0.0), Vec3(x=0.4853, y=0.46140000000000003, z=-0.0), Vec3(x=0.5408000000000001, y=0.4316, z=0.08900000000000001), Vec3(x=0.5660999999999999, y=0.42210000000000003, z=-0.1232), Vec3(x=0.5123000000000001, y=0.4521, z=-0.21309999999999998), Vec3(x=0.663, y=0.47190000000000004, z=-0.1206), Vec3(x=0.5809000000000001, y=0.31410000000000005, z=-0.12410000000000002), Vec3(x=0.47130000000000005, y=0.6129, z=0.0), Vec3(x=0.36010000000000003, y=0.6653, z=0.0), Vec3(x=0.5846, y=0.6835, z=0.0), Vec3(x=0.6737000000000001, y=0.6359, z=-0.0), Vec3(x=0.5846, y=0.8284000000000001, z=0.0), Vec3(x=0.4819, y=0.8648, z=0.0), Vec3(x=0.6360000000000001, y=0.8648, z=0.08900000000000001), Vec3(x=0.6360000000000001, y=0.8648, z=-0.08900000000000001)] nm\n"
     ]
    }
   ],
   "source": [
    "pdb = app.PDBFile(\"alanine-dipeptide.pdb\")\n",
    "print(pdb.topology)\n",
    "print(pdb.positions)"
   ]
  },
  {
   "cell_type": "markdown",
   "metadata": {},
   "source": [
    "To change your unit system, use the .value_in_unit() method. This gives the number in the new units, but it doesn't include the unit. Multiply by openmm.unit.(your_unit) to reintroduce it."
   ]
  },
  {
   "cell_type": "code",
   "execution_count": 3,
   "metadata": {},
   "outputs": [
    {
     "name": "stdout",
     "output_type": "stream",
     "text": [
      "(Vec3(x=10.0, y=0.0, z=0.0), Vec3(x=0.0, y=10.0, z=0.0), Vec3(x=0.0, y=0.0, z=10.0)) nm\n",
      "(Vec3(x=100.0, y=0.0, z=0.0), Vec3(x=0.0, y=100.0, z=0.0), Vec3(x=0.0, y=0.0, z=100.0)) A\n"
     ]
    }
   ],
   "source": [
    "print(pdb.topology.getPeriodicBoxVectors()) # get box vectors in nm\n",
    "print(pdb.topology.getPeriodicBoxVectors().value_in_unit(u.angstrom) * u.angstrom) # get box vectors in angstroms"
   ]
  },
  {
   "cell_type": "markdown",
   "metadata": {},
   "source": [
    "Forcefields are specified with their corresponding XML files and can be called with the ForceField class in the application layer. Many forcefields, such as amber14 shown below, are included with OpenMM and do not require the XML file where you are running the simulation."
   ]
  },
  {
   "cell_type": "code",
   "execution_count": 4,
   "metadata": {},
   "outputs": [],
   "source": [
    "forcefield = app.ForceField('amber14-all.xml')"
   ]
  },
  {
   "cell_type": "markdown",
   "metadata": {},
   "source": [
    "Many times, water models are separated from the main forcefield and should be called separately (e.g. forcefield=app.ForceField('amber14-all.xml', 'amber14/tip3p.xml')). This lends flexibility in the choice of water model (implicit vs explicit, different methods, etc.). http://docs.openmm.org/latest/userguide/application/02_running_sims.html#force-fields provides an overview of a couple forcefields built into OpenMM. Note that some models require the topology to be adjusted to account for waters in the system."
   ]
  },
  {
   "cell_type": "markdown",
   "metadata": {},
   "source": [
    "## System objects\n",
    "\n",
    "The System defines what you are simulating using the forcefield, topology, nonbonded considerations, and other parameters depending on the forcefield you use. It is created by calling .createSystem() on your forcefield."
   ]
  },
  {
   "cell_type": "code",
   "execution_count": 5,
   "metadata": {},
   "outputs": [],
   "source": [
    "system = forcefield.createSystem(pdb.topology,\n",
    "                                 nonbondedMethod=app.NoCutoff, # implies non-periodicity, isolated box in vacuum\n",
    "                                 constraints=app.HBonds)"
   ]
  },
  {
   "cell_type": "markdown",
   "metadata": {},
   "source": [
    "If simulating some bulk periodic system: to prevent issues with periodic images, the nonbondedCutoff must be less than $\\frac{1}{2}({\\rm box~vectors})$."
   ]
  },
  {
   "cell_type": "markdown",
   "metadata": {},
   "source": [
    "## Platform objects\n",
    "\n",
    "On what hardware do you want to simulate your system? There are four options provided by OpenMM, but only two are worth considering for our uses: CUDA and CPU.$^*$ There are two options to implicitly choose a platform. (1) OpenMM defaults to the fastest option available, and (2) you can set the OPENMM_DEFAULT_PLATFORM environment variable to your choice.\n",
    "\n",
    "Alternatively, to explicitly specify on which device you would like to run the calculations, simply do\n",
    "\n",
    "###### $^*$ The other platforms are Reference and OpenCL. Reference is mainly a tool for writing your own platform and does not optimize performance. OpenCL works with GPUs and CPUs, is written in OpenCL, and is useful if you're working with non-Nvidia graphics cards."
   ]
  },
  {
   "cell_type": "code",
   "execution_count": 6,
   "metadata": {},
   "outputs": [],
   "source": [
    "platform = mm.Platform.getPlatformByName('CPU') # 'CUDA' if a GPU is available"
   ]
  },
  {
   "cell_type": "markdown",
   "metadata": {},
   "source": [
    "## Integrators, thermostats, and barostats\n",
    "For a list of available integrators, see http://docs.openmm.org/latest/userguide/application/02_running_sims.html#integrators.\n",
    "\n",
    "#### NVE integrators, thermostats\n",
    "E.g. VerletIntegrator\n",
    "\n",
    "You can add a thermostat to these integrators to perform NVT simulations, but Langevin integrators are preferred. To add the thermostat, apply .addForce(your_thermostat) to the system object."
   ]
  },
  {
   "cell_type": "code",
   "execution_count": 7,
   "metadata": {},
   "outputs": [],
   "source": [
    "# way to remove forces (e.g. thermostat) from the system\n",
    "def manual_remove_force(system, force_object):\n",
    "    for i, force in enumerate(system.getForces()):\n",
    "        if f'{force}'[0:50] == f'{force_object}'[0:50]:\n",
    "            system.removeForce(i)\n",
    "            return True\n",
    "    return False"
   ]
  },
  {
   "cell_type": "code",
   "execution_count": 8,
   "metadata": {},
   "outputs": [
    {
     "name": "stdout",
     "output_type": "stream",
     "text": [
      "<openmm.openmm.AndersenThermostat; proxy of <Swig Object of type 'OpenMM::AndersenThermostat *' at 0x1071cc060> >\n"
     ]
    }
   ],
   "source": [
    "nve_integrator = mm.VerletIntegrator(0.001*u.picoseconds)\n",
    "\n",
    "thermostat = mm.AndersenThermostat(298.15*u.kelvin,\n",
    "                                   1.0/u.picosecond)\n",
    "\n",
    "manual_remove_force(system, thermostat)\n",
    "\n",
    "system.addForce(thermostat)\n",
    "print(system.getForces()[-1])"
   ]
  },
  {
   "cell_type": "markdown",
   "metadata": {},
   "source": [
    "#### NVT integrators\n",
    "Langevin Middle Integrator: thermostat built into this, good for NVT simulations.\n",
    "\n",
    "\n",
    "#### NPT simulations\n",
    "To run NPT simulations, you can add a barostat. Multiple kinds are built into OpenMM: isotropic, anisotropic, specifically for membranes, http://docs.openmm.org/development/api-python/library.html#forces. Note: the system must be periodic to use a barostat.\n",
    "\n",
    "Like thermostats, barostats need to be added to the system as forces."
   ]
  },
  {
   "cell_type": "code",
   "execution_count": 9,
   "metadata": {},
   "outputs": [
    {
     "name": "stdout",
     "output_type": "stream",
     "text": [
      "[<openmm.openmm.HarmonicBondForce; proxy of <Swig Object of type 'OpenMM::HarmonicBondForce *' at 0x1071e2270> >, <openmm.openmm.HarmonicAngleForce; proxy of <Swig Object of type 'OpenMM::HarmonicAngleForce *' at 0x1071e2240> >, <openmm.openmm.PeriodicTorsionForce; proxy of <Swig Object of type 'OpenMM::PeriodicTorsionForce *' at 0x1071e2300> >, <openmm.openmm.NonbondedForce; proxy of <Swig Object of type 'OpenMM::NonbondedForce *' at 0x1071e2390> >, <openmm.openmm.CMMotionRemover; proxy of <Swig Object of type 'OpenMM::CMMotionRemover *' at 0x1071e2420> >]\n",
      "<openmm.openmm.MonteCarloBarostat; proxy of <Swig Object of type 'OpenMM::MonteCarloBarostat *' at 0x1071e2570> >\n"
     ]
    }
   ],
   "source": [
    "# remove thermostat if we use Langevin integrator\n",
    "manual_remove_force(system, thermostat)\n",
    "print(system.getForces()) # check that the thermostat is removed\n",
    "\n",
    "integrator = mm.LangevinMiddleIntegrator(300 * u.kelvin,           # temperature of the heat bath\n",
    "                                         1.0 / u.picosecond,       # friction coefficient\n",
    "                                         2.0 * u.femtosecond)      # integration timestep\n",
    "\n",
    "barostat = mm.MonteCarloBarostat(1.0 * u.bar,       # pressure\n",
    "                                 300 * u.kelvin,    # temperature - match with integrator\n",
    "                                 25)                # frequency of volume change attempts in number of time steps\n",
    "\n",
    "manual_remove_force(system, barostat) # prevent adding a second barostat if cell rerun\n",
    "\n",
    "system.addForce(barostat)\n",
    "print(system.getForces()[-1])"
   ]
  },
  {
   "cell_type": "markdown",
   "metadata": {},
   "source": [
    "Let's remove the barostat for now and just work with the NVT ensemble."
   ]
  },
  {
   "cell_type": "code",
   "execution_count": 10,
   "metadata": {},
   "outputs": [
    {
     "name": "stdout",
     "output_type": "stream",
     "text": [
      "[<openmm.openmm.HarmonicBondForce; proxy of <Swig Object of type 'OpenMM::HarmonicBondForce *' at 0x107d4dbd0> >, <openmm.openmm.HarmonicAngleForce; proxy of <Swig Object of type 'OpenMM::HarmonicAngleForce *' at 0x107d4dd50> >, <openmm.openmm.PeriodicTorsionForce; proxy of <Swig Object of type 'OpenMM::PeriodicTorsionForce *' at 0x107d4d810> >, <openmm.openmm.NonbondedForce; proxy of <Swig Object of type 'OpenMM::NonbondedForce *' at 0x107d4d7b0> >, <openmm.openmm.CMMotionRemover; proxy of <Swig Object of type 'OpenMM::CMMotionRemover *' at 0x107d4d840> >]\n"
     ]
    }
   ],
   "source": [
    "manual_remove_force(system, barostat)\n",
    "print(system.getForces()) # check that the barostat is removed"
   ]
  },
  {
   "cell_type": "markdown",
   "metadata": {},
   "source": [
    "#### Custom integrators\n",
    "Instead of using an established integrator, you can also create your own. One example of this utility is with separated timescales; if you need to integrate over a fast process and a slow one, you can write an integrator that accomplishes this task efficiently:"
   ]
  },
  {
   "cell_type": "code",
   "execution_count": 11,
   "metadata": {},
   "outputs": [
    {
     "name": "stdout",
     "output_type": "stream",
     "text": [
      "<openmm.openmm.CustomIntegrator; proxy of <Swig Object of type 'OpenMM::CustomIntegrator *' at 0x1071e2030> >\n"
     ]
    }
   ],
   "source": [
    "custom_integrator = mm.CustomIntegrator(0.002*u.picoseconds) # 2 fs time step\n",
    "custom_integrator.addComputePerDof('v', 'v+0.5*dt*f1/m')\n",
    "for _ in range(4):\n",
    "    custom_integrator.addComputePerDof('v', 'v+0.5*(dt/4)*f0/m')\n",
    "    custom_integrator.addComputePerDof('x', 'x+(dt/4)*v')\n",
    "    custom_integrator.addComputePerDof('v', 'v+0.5*(dt/4)*f0/m')\n",
    "custom_integrator.addComputePerDof('v', 'v+0.5*dt*f1/m')\n",
    "\n",
    "print(custom_integrator)"
   ]
  },
  {
   "cell_type": "markdown",
   "metadata": {},
   "source": [
    "## Simulation objects\n",
    "\n",
    "The Simulation object creates a context that brings everything together."
   ]
  },
  {
   "cell_type": "code",
   "execution_count": 12,
   "metadata": {},
   "outputs": [],
   "source": [
    "simulation = app.Simulation(pdb.topology, system, integrator, platform)"
   ]
  },
  {
   "cell_type": "markdown",
   "metadata": {},
   "source": [
    "You must explicitly set the positions and velocities of the particles after creating the simulation, which is easily done with the PDBFile object defined above and the .setVelocitiesToTemperature() method, respectively."
   ]
  },
  {
   "cell_type": "code",
   "execution_count": 13,
   "metadata": {},
   "outputs": [
    {
     "name": "stdout",
     "output_type": "stream",
     "text": [
      "[[ 0.2     0.1    -0.    ]\n",
      " [ 0.2     0.209   0.    ]\n",
      " [ 0.1486  0.2454  0.089 ]\n",
      " [ 0.1486  0.2454 -0.089 ]\n",
      " [ 0.3427  0.2641 -0.    ]\n",
      " [ 0.4391  0.1877 -0.    ]\n",
      " [ 0.3555  0.397  -0.    ]\n",
      " [ 0.2733  0.4556 -0.    ]\n",
      " [ 0.4853  0.4614 -0.    ]\n",
      " [ 0.5408  0.4316  0.089 ]\n",
      " [ 0.5661  0.4221 -0.1232]\n",
      " [ 0.5123  0.4521 -0.2131]\n",
      " [ 0.663   0.4719 -0.1206]\n",
      " [ 0.5809  0.3141 -0.1241]\n",
      " [ 0.4713  0.6129  0.    ]\n",
      " [ 0.3601  0.6653  0.    ]\n",
      " [ 0.5846  0.6835  0.    ]\n",
      " [ 0.6737  0.6359 -0.    ]\n",
      " [ 0.5846  0.8284  0.    ]\n",
      " [ 0.4819  0.8648  0.    ]\n",
      " [ 0.636   0.8648  0.089 ]\n",
      " [ 0.636   0.8648 -0.089 ]] nm\n",
      "[[ 0.01545357 -0.23249097 -0.62735274]\n",
      " [-0.80111501 -0.23249097 -0.6223307 ]\n",
      " [-1.84177366  1.20574058 -1.81156086]\n",
      " [-0.41504976 -0.39319816 -0.91102163]\n",
      " [-0.13514256 -0.46699406  0.27999797]\n",
      " [ 0.10980039  0.07780647 -0.18778768]\n",
      " [-0.25775899  0.02381283 -0.23854119]\n",
      " [-2.04591997 -2.48449489  0.21079209]\n",
      " [-0.97813403 -0.90320575 -0.8052577 ]\n",
      " [ 0.75661274 -1.92956899 -2.23069669]\n",
      " [ 0.2285636  -0.08839643 -0.32015863]\n",
      " [-0.19409598  1.62456516  0.5044013 ]\n",
      " [ 0.88284996 -1.26834004 -2.10445214]\n",
      " [ 0.76227367 -0.01661962 -0.15680439]\n",
      " [ 0.11672475 -0.42840223 -0.24044362]\n",
      " [ 0.24563748  0.43865078  0.88685331]\n",
      " [ 0.11593314 -0.55769582  0.2875807 ]\n",
      " [ 0.88950169  0.89030748  1.73639401]\n",
      " [-0.01021537 -0.40281266 -0.1444067 ]\n",
      " [ 0.51297651  1.07333584 -0.93831418]\n",
      " [-0.77567135  0.13564039  0.0774444 ]\n",
      " [ 0.76027954 -1.83559608 -0.28541655]] nm/ps\n"
     ]
    }
   ],
   "source": [
    "simulation.context.setPositions(pdb.positions)\n",
    "simulation.context.setVelocitiesToTemperature(300*u.kelvin)\n",
    "print(simulation.context.getState(getPositions=True).getPositions(asNumpy=True))\n",
    "print(simulation.context.getState(getVelocities=True).getVelocities(asNumpy=True))"
   ]
  },
  {
   "cell_type": "markdown",
   "metadata": {},
   "source": [
    "We can now run the simulation! We first minimize the energy of the system through a geometry relaxation, then we can step through our equations of motion. We'll only run a few steps here and save the state of the system. Once we have the tools to track our data, we'll let it go longer."
   ]
  },
  {
   "cell_type": "code",
   "execution_count": 14,
   "metadata": {},
   "outputs": [
    {
     "name": "stdout",
     "output_type": "stream",
     "text": [
      "Minimizing energy...\n",
      "Done minimizing energy.\n"
     ]
    }
   ],
   "source": [
    "print(\"Minimizing energy...\")\n",
    "simulation.minimizeEnergy(maxIterations=100000,tolerance=0.000001)\n",
    "print(\"Done minimizing energy.\")\n",
    "simulation.step(1)"
   ]
  },
  {
   "cell_type": "markdown",
   "metadata": {},
   "source": [
    "## State object\n",
    "\n",
    "The State object lets you pull information about the state of the system (positions, velocities, forces, energies, etc.). You must provide the specific information you want to be stored in the State, which can then be accessed by calling .getPositions(), .getVelocities(), etc. By default, these are returned as N Vec3 objects for N atoms in your system, but you can get Numpy arrays by setting asNumpy=True in the method argument."
   ]
  },
  {
   "cell_type": "code",
   "execution_count": 15,
   "metadata": {},
   "outputs": [
    {
     "name": "stdout",
     "output_type": "stream",
     "text": [
      "[Vec3(x=0.19474766653313158, y=0.11819316832034737, z=10.056607849808707), Vec3(x=0.1969083163281813, y=0.21799349564342996, z=10.012833019196687), Vec3(x=0.13029083363768845, y=0.28669378703153486, z=10.06501901076366), Vec3(x=0.1668098536966429, y=0.21301872777117936, z=9.908189112233899), Vec3(x=0.3401460646351983, y=0.2688518583132324, z=10.022604387796777), Vec3(x=0.4282680349687784, y=0.20094631740520622, z=10.072129758814155), Vec3(x=0.3620077856403368, y=0.3913371612435526, z=9.972083102794757), Vec3(x=0.28039222490220567, y=0.4388253693989313, z=9.936238448790885), Vec3(x=0.49008197651566304, y=0.45748584898516165, z=9.971705806460728), Vec3(x=0.5483286714857413, y=0.42536138242661725, z=10.058055958650405), Vec3(x=0.57251709336213, y=0.4151840623488987, z=9.849128686899146), Vec3(x=0.5185640513038228, y=0.4471718331517588, z=9.759983445564233), Vec3(x=0.6718063644247351, y=0.4600311520670806, z=9.845765398337614), Vec3(x=0.5869036898320948, y=0.3071522060269933, z=9.850882043239196), Vec3(x=0.47434903710149856, y=0.6113755751883652, z=9.9771743723174), Vec3(x=0.3687204427273675, y=0.664560772659629, z=9.943608918371979), Vec3(x=0.5787264295168524, y=0.6834466588990595, z=10.020832398423027), Vec3(x=0.6634411556455548, y=0.6372227045185075, z=10.050627900318913), Vec3(x=0.5782815420776084, y=0.8295290158611458, z=10.029629976806394), Vec3(x=0.501422955104491, y=0.864857867613265, z=10.098373285480898), Vec3(x=0.6744798441352506, y=0.8666863194457618, z=10.064931953874583), Vec3(x=0.5581005417780344, y=0.8704695889656635, z=9.93064718159755)] nm\n",
      "[[ 0.24378148  0.023995   -0.49692742]\n",
      " [-0.70186572  0.0242939  -0.51959296]\n",
      " [-1.05914564  0.91364271 -2.09739162]\n",
      " [-0.41258693 -0.1602773  -0.58783658]\n",
      " [-0.02367652 -0.21148685  0.41126589]\n",
      " [ 0.21636983  0.30029646 -0.03184281]\n",
      " [-0.11807424  0.24104019 -0.13220435]\n",
      " [-1.91482661 -2.22808093  0.31949883]\n",
      " [-0.86775578 -0.66318918 -0.67480092]\n",
      " [ 0.73802703 -1.84658891 -2.14294804]\n",
      " [ 0.30367341  0.19471241 -0.21447266]\n",
      " [-0.05727217  2.0394404   0.6092408 ]\n",
      " [ 0.96569516 -1.10316293 -2.10496111]\n",
      " [ 0.80873442  0.19563036  0.04034872]\n",
      " [ 0.20802403 -0.1801689  -0.0977907 ]\n",
      " [ 0.36695585  0.66398105  1.02002735]\n",
      " [ 0.23421816 -0.31554433  0.42355139]\n",
      " [ 0.69893192  1.25244025  1.70399325]\n",
      " [ 0.09367229 -0.22517111  0.01248928]\n",
      " [ 0.25733363  1.33215376 -0.62260428]\n",
      " [-0.27843494  0.41712811  0.37698377]\n",
      " [ 0.83308811 -1.42161854 -0.61994174]] nm/ps\n"
     ]
    }
   ],
   "source": [
    "current_state = simulation.context.getState(getPositions=True,\n",
    "                                            getVelocities=True,\n",
    "                                            getEnergy=True,\n",
    "                                            getForces=True,\n",
    "                                            getParameters=True,\n",
    "                                            enforcePeriodicBox=True\n",
    "                                            )\n",
    "positions = current_state.getPositions()\n",
    "velocities = current_state.getVelocities(asNumpy=True)\n",
    "print(positions)\n",
    "print(velocities)"
   ]
  },
  {
   "cell_type": "markdown",
   "metadata": {},
   "source": [
    "## Saving states\n",
    "We can save the State of our simulation as well by calling the saveState method on the simulation. There are actually two options to save at a given point in the simulation: saveState and saveCheckpoint. saveState creates a text file containing positions, velocities, forces, and many other parameters of the simulation. Because it is a text file, it can be used across different machines but can create a large document. Alternatively, saveCheckpoint saves a binary file with this information and should be only used on consistent hardware."
   ]
  },
  {
   "cell_type": "code",
   "execution_count": 16,
   "metadata": {},
   "outputs": [],
   "source": [
    "simulation.saveState('progress.state')\n",
    "pos_check = simulation.context.getState(getPositions=True).getPositions(asNumpy=True) # check that loadState will give the same positions"
   ]
  },
  {
   "cell_type": "markdown",
   "metadata": {},
   "source": [
    "## Reporters\n",
    "Reporter objects store simulation data and save it to a file (.log, .pdb, .xtc, ...). You can choose how often you want to save a frame of the simulation (reportInterval), whether to have coordinates enforce periodicity (enforcePeriodicBox for PDBReporter), and what data you would like to keep. The data reporter must be appended to simulation.reporters to save any information about the simulation.\n",
    "\n",
    "In addition to the one-off save options above, there is also a saveCheckpoint reporter that will automatically create a checkpoint file every $n$ steps in the simulation. There's an optional argument to save the system as a serialized State file (like .saveState) as well."
   ]
  },
  {
   "cell_type": "code",
   "execution_count": 17,
   "metadata": {},
   "outputs": [],
   "source": [
    "state_data_reporter = app.StateDataReporter(file='nvt_output.log',\n",
    "                                            reportInterval=1,\n",
    "                                            step=True,\n",
    "                                            time=True,\n",
    "                                            potentialEnergy=True,\n",
    "                                            kineticEnergy=True,\n",
    "                                            totalEnergy=True,\n",
    "                                            temperature=True,\n",
    "                                            volume=True,\n",
    "                                            density=True,\n",
    "                                            speed=True,\n",
    "                                            separator=' ')\n",
    "\n",
    "pdb_reporter = app.PDBReporter(file='nvt_output.pdb',\n",
    "                               reportInterval=4,\n",
    "                               enforcePeriodicBox=True)\n",
    "\n",
    "checkpoint_reporter = app.CheckpointReporter(file='checkpnt.chk',\n",
    "                                             reportInterval=5,\n",
    "                                             writeState=False)\n",
    "\n",
    "simulation.reporters.append(state_data_reporter)\n",
    "simulation.reporters.append(pdb_reporter)\n",
    "simulation.reporters.append(checkpoint_reporter)"
   ]
  },
  {
   "cell_type": "code",
   "execution_count": 18,
   "metadata": {},
   "outputs": [],
   "source": [
    "simulation.step(10)"
   ]
  },
  {
   "cell_type": "markdown",
   "metadata": {},
   "source": [
    "You should now see three new files in your directory: output.log, output.pdb, and checkpnt.chk.\n",
    "\n",
    "## Loading states\n",
    "Let's load the State we saved earlier. We'll first check that our positions have evolved and are not the same as those in the saved State."
   ]
  },
  {
   "cell_type": "code",
   "execution_count": 19,
   "metadata": {},
   "outputs": [
    {
     "name": "stdout",
     "output_type": "stream",
     "text": [
      "False\n"
     ]
    }
   ],
   "source": [
    "pos_check1 = simulation.context.getState(getPositions=True).getPositions(asNumpy=True) # check that positions are different than pos_check\n",
    "print(np.all(pos_check == pos_check1)) # should be false"
   ]
  },
  {
   "cell_type": "markdown",
   "metadata": {},
   "source": [
    "Now we can load the saved State and check if the positions are the same."
   ]
  },
  {
   "cell_type": "code",
   "execution_count": 20,
   "metadata": {},
   "outputs": [
    {
     "name": "stdout",
     "output_type": "stream",
     "text": [
      "True\n"
     ]
    }
   ],
   "source": [
    "simulation.loadState('progress.state')\n",
    "\n",
    "pos_check2 = simulation.context.getState(getPositions=True).getPositions(asNumpy=True) # check that loadState will give the same positions\n",
    "print(np.all(pos_check == pos_check2)) # should be true"
   ]
  },
  {
   "cell_type": "markdown",
   "metadata": {},
   "source": [
    "## (Custom) Forces\n",
    "\n",
    "We saw with thermostats and barostats that forces could be added outside of the forcefield rules. We can also add whichever forces we see fit using system.addForces(). A link to available forces is here: http://docs.openmm.org/development/api-python/library.html#forces. As we saw an example of adding pre-defined forces to the system above with thermostats and barostats, here we will focus on custom forces. OpenMM lets you write an analytical energy expression and apply the corresponding force to bonds, as an external force on particles, and more. Here we will write a force to trap atoms in our structure in an harmonic well.\n",
    "\n",
    "There are different kinds of parameters we can set when defining a custom force. Global Parameters apply to all objects experiencing the force, whereas Per Particle Parameters are appropriately named and can have a unique value for every particle. In this case, our spring constant will be global and the positions in which we trap the atoms will be per particle."
   ]
  },
  {
   "cell_type": "code",
   "execution_count": 21,
   "metadata": {},
   "outputs": [
    {
     "name": "stdout",
     "output_type": "stream",
     "text": [
      "<openmm.openmm.CMMotionRemover; proxy of <Swig Object of type 'OpenMM::CMMotionRemover *' at 0x1072624b0> >\n"
     ]
    }
   ],
   "source": [
    "print(system.getForces()[-1]) # check the last force in the list, should change once we add custom force\n",
    "custom_force = mm.CustomExternalForce('k*((x-x0)^2+(y-y0)^2+(z-z0)^2)') # energy function associated with the force we want to add\n",
    "custom_force.addGlobalParameter('k', 1.0)\n",
    "custom_force.addPerParticleParameter('x0')\n",
    "custom_force.addPerParticleParameter('y0')\n",
    "custom_force.addPerParticleParameter('z0');"
   ]
  },
  {
   "cell_type": "markdown",
   "metadata": {},
   "source": [
    "Next, we want to add each particle to the force as well as the reference positions to each particle. We add particles according to their indices (enumerating over positions is a helpful way to get these), and we add the per particle parameter immediately after. Use the addParticle method on your defined force to do this."
   ]
  },
  {
   "cell_type": "code",
   "execution_count": 22,
   "metadata": {},
   "outputs": [],
   "source": [
    "for i, position in enumerate(pos_check):\n",
    "    custom_force.addParticle(i, position) # add particle to the force"
   ]
  },
  {
   "cell_type": "markdown",
   "metadata": {},
   "source": [
    "We've created the force, but now we have to add it to the system."
   ]
  },
  {
   "cell_type": "code",
   "execution_count": 23,
   "metadata": {},
   "outputs": [
    {
     "name": "stdout",
     "output_type": "stream",
     "text": [
      "<openmm.openmm.CustomExternalForce; proxy of <Swig Object of type 'OpenMM::CustomExternalForce *' at 0x107262060> >\n"
     ]
    }
   ],
   "source": [
    "manual_remove_force(system, custom_force) # prevent adding a second custom force if cell rerun\n",
    "system.addForce(custom_force)\n",
    "print(system.getForces()[-1]) # check that the custom force is added"
   ]
  },
  {
   "cell_type": "markdown",
   "metadata": {},
   "source": [
    "Although we've added the force to the system, we're not done yet. The context doesn't know that we've updated the system, so we must reinitialize it to have everyone on the same page. This is an expensive operation and gets rid of the State information of the system, so we have to be careful when calling it. We've already created a saved state, so let's not worry about creating a new checkpoint. Next, we call reinitialize on the context and reload the State information."
   ]
  },
  {
   "cell_type": "code",
   "execution_count": 24,
   "metadata": {},
   "outputs": [],
   "source": [
    "# simulation.saveState('save_before_reinitialize.state')\n",
    "simulation.context.reinitialize()\n",
    "simulation.loadState('progress.state')"
   ]
  },
  {
   "cell_type": "markdown",
   "metadata": {},
   "source": [
    "Let's try running."
   ]
  },
  {
   "cell_type": "code",
   "execution_count": 25,
   "metadata": {},
   "outputs": [
    {
     "name": "stdout",
     "output_type": "stream",
     "text": [
      "<openmm.openmm.CustomExternalForce; proxy of <Swig Object of type 'OpenMM::CustomExternalForce *' at 0x1071e2420> >\n"
     ]
    }
   ],
   "source": [
    "simulation.step(100)\n",
    "print(system.getForces()[-1]) # check that the custom force is still there"
   ]
  },
  {
   "cell_type": "markdown",
   "metadata": {},
   "source": [
    "Nice! It runs and the last force in our system is still the external force. Success!\n",
    "\n",
    "We can also update the PerParticleParameters as we simulate. You may think, \"Oh no! If I want to update the forces often, it'll be super expensive to save the State and reinitialize the Context each time.\" Fear not, for there is a quicker way. Feed the new perParticleParameters to your force object using the setParticleParameters method, then call updateParametersInContext to set them. Let's change the well from the pos_check positions to the pos_check1 positions.\n",
    "\n",
    "Arguments (in order) for setParticleParameters:\n",
    "- the index of the parameters you want to set for a given particle\n",
    "- the index of the particle in your system for which you are setting parameters\n",
    "- the parameters you would like to set"
   ]
  },
  {
   "cell_type": "code",
   "execution_count": 26,
   "metadata": {},
   "outputs": [
    {
     "name": "stdout",
     "output_type": "stream",
     "text": [
      "[[0, (0.19474766653313158, 0.11819316832034737, 0.05660784980870607)], [1, (0.1969083163281813, 0.21799349564342996, 0.012833019196687763)], [2, (0.13029083363768845, 0.28669378703153486, 0.06501901076366057)], [3, (0.1668098536966429, 0.21301872777117936, -0.09181088776610107)], [4, (0.3401460646351983, 0.2688518583132324, 0.022604387796778078)], [5, (0.4282680349687784, 0.20094631740520622, 0.07212975881415475)], [6, (0.3620077856403368, 0.3913371612435526, -0.027916897205242732)], [7, (0.28039222490220567, 0.4388253693989313, -0.06376155120911589)], [8, (0.49008197651566304, 0.45748584898516165, -0.02829419353927174)], [9, (0.5483286714857413, 0.42536138242661725, 0.058055958650404776)], [10, (0.57251709336213, 0.4151840623488987, -0.1508713131008538)], [11, (0.5185640513038228, 0.4471718331517588, -0.24001655443576753)], [12, (0.6718063644247351, 0.4600311520670806, -0.15423460166238698)], [13, (0.5869036898320948, 0.3071522060269933, -0.14911795676080453)], [14, (0.47434903710149856, 0.6113755751883652, -0.02282562768260042)], [15, (0.3687204427273675, 0.664560772659629, -0.0563910816280222)], [16, (0.5787264295168524, 0.6834466588990595, 0.020832398423026224)], [17, (0.6634411556455548, 0.6372227045185075, 0.05062790031891315)], [18, (0.5782815420776084, 0.8295290158611458, 0.029629976806393624)], [19, (0.501422955104491, 0.864857867613265, 0.09837328548089859)], [20, (0.6744798441352506, 0.8666863194457618, 0.06493195387458263)], [21, (0.5581005417780344, 0.8704695889656635, -0.0693528184024501)]]\n",
      "[[0, (0.17864155352811675, 0.12483835497687114, 0.061848543490510034)], [1, (0.192730354274931, 0.2171023776610524, 0.005547084422662701)], [2, (0.12288138289118707, 0.29123322933512596, 0.04436395066150705)], [3, (0.175407123261336, 0.1998604671005385, -0.1006774085074549)], [4, (0.334506855406938, 0.2671129590024233, 0.02220048381718799)], [5, (0.42647704217022636, 0.20492763484219126, 0.0718148214150445)], [6, (0.35661223715534424, 0.39033185934366527, -0.03260231906523203)], [7, (0.27285823075227406, 0.4353957650274944, -0.0665954832879258)], [8, (0.48796962581214637, 0.45717869110262993, -0.03518200573217651)], [9, (0.5442530827768193, 0.42844398991224725, 0.05362953409675291)], [10, (0.5709080886394863, 0.4159965155897025, -0.16177030712549456)], [11, (0.5308352402566332, 0.45049902139178294, -0.2570844398971557)], [12, (0.6697267839702431, 0.4583706012305324, -0.14387222863455276)], [13, (0.5816350371711595, 0.30769242723352536, -0.16778172480811918)], [14, (0.4786342266789903, 0.6121992548301542, -0.016770713915205817)], [15, (0.375390333434854, 0.6725023885013515, -0.04047988180641793)], [16, (0.5834591335254403, 0.6774817093702229, 0.02937448559137338)], [17, (0.6671396144057156, 0.629430996890719, 0.05920284017855858)], [18, (0.5825327293363939, 0.8248431358760335, 0.02809889170554125)], [19, (0.49666547729343574, 0.857597969918566, 0.0867068590221346)], [20, (0.6730394714352481, 0.8676099751213563, 0.07123269462324074)], [21, (0.5694659011983102, 0.8640005977530197, -0.07278216754698193)]]\n"
     ]
    }
   ],
   "source": [
    "# Check parameters of the custom force\n",
    "particle_parameters = []\n",
    "for i in range(custom_force.getNumParticles()):\n",
    "    particle_parameters.append(custom_force.getParticleParameters(i))\n",
    "print(particle_parameters)\n",
    "\n",
    "# Change parameters of the custom force\n",
    "for i, position in enumerate(pos_check1):\n",
    "    custom_force.setParticleParameters(i, i, (position[0], position[1], position[2]))\n",
    "custom_force.updateParametersInContext(simulation.context)\n",
    "\n",
    "# Check parameters of the custom force again\n",
    "particle_parameters = []\n",
    "for i in range(custom_force.getNumParticles()):\n",
    "    particle_parameters.append(custom_force.getParticleParameters(i))\n",
    "print(particle_parameters)"
   ]
  },
  {
   "cell_type": "markdown",
   "metadata": {},
   "source": [
    "The forces have changed!"
   ]
  }
 ],
 "metadata": {
  "kernelspec": {
   "display_name": "martini",
   "language": "python",
   "name": "python3"
  },
  "language_info": {
   "codemirror_mode": {
    "name": "ipython",
    "version": 3
   },
   "file_extension": ".py",
   "mimetype": "text/x-python",
   "name": "python",
   "nbconvert_exporter": "python",
   "pygments_lexer": "ipython3",
   "version": "3.8.12"
  }
 },
 "nbformat": 4,
 "nbformat_minor": 2
}
